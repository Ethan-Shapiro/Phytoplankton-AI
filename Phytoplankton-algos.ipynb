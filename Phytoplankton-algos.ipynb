{
 "cells": [
  {
   "cell_type": "markdown",
   "metadata": {},
   "source": [
    "## Imports "
   ]
  },
  {
   "cell_type": "code",
   "execution_count": 1,
   "metadata": {},
   "outputs": [],
   "source": [
    "import pandas as pd\n",
    "import matplotlib.pyplot as plt\n",
    "import numpy as np\n",
    "import math\n",
    "\n",
    "from sklearn import linear_model\n",
    "from sklearn.model_selection import train_test_split\n",
    "from sklearn.linear_model import LinearRegression\n",
    "from sklearn import tree, svm\n",
    "from sklearn.neural_network import MLPRegressor\n",
    "from sklearn.metrics import r2_score\n",
    "from sklearn.preprocessing import StandardScaler\n",
    "\n",
    "import torch\n",
    "from torch import nn\n",
    "from torch.utils.data import Dataset, DataLoader"
   ]
  },
  {
   "cell_type": "markdown",
   "metadata": {},
   "source": [
    "## Data"
   ]
  },
  {
   "cell_type": "code",
   "execution_count": 2,
   "metadata": {},
   "outputs": [
    {
     "name": "stderr",
     "output_type": "stream",
     "text": [
      "/Users/annaleaohalloran/opt/anaconda3/lib/python3.7/site-packages/IPython/core/interactiveshell.py:3063: DtypeWarning: Columns (0,1,4,5,6,7,8,9,10,11,12,13,14,15,16,17,18,19,20,21,22,23,24,25,26,27,28,29,30,31,32,33,34,35,36,37,38,39,40,41,42,43,44,45,46,48,49,50,51,52,53,54,55,56,57,58,59,60,61) have mixed types.Specify dtype option on import or set low_memory=False.\n",
      "  interactivity=interactivity, compiler=compiler, result=result)\n"
     ]
    }
   ],
   "source": [
    "bottle1 = pd.read_csv(\"bottle_data_2010-14.csv\")\n",
    "bottle2 = pd.read_csv(\"bottle_Data_2015to19.csv\", header=None)\n",
    "cast = pd.read_csv(\"cast_Data_2015to19.csv\")"
   ]
  },
  {
   "cell_type": "code",
   "execution_count": 3,
   "metadata": {},
   "outputs": [
    {
     "name": "stderr",
     "output_type": "stream",
     "text": [
      "/Users/annaleaohalloran/opt/anaconda3/lib/python3.7/site-packages/IPython/core/interactiveshell.py:3063: DtypeWarning: Columns (47,61) have mixed types.Specify dtype option on import or set low_memory=False.\n",
      "  interactivity=interactivity, compiler=compiler, result=result)\n"
     ]
    }
   ],
   "source": [
    "bottle = pd.read_csv(\"bottle.csv\", encoding='utf-8')"
   ]
  },
  {
   "cell_type": "code",
   "execution_count": 4,
   "metadata": {},
   "outputs": [
    {
     "name": "stdout",
     "output_type": "stream",
     "text": [
      "Index(['Cst_Cnt', 'Btl_Cnt', 'Sta_ID', 'Depth_ID', 'Depthm', 'T_degC',\n",
      "       'Salnty', 'O2ml_L', 'STheta', 'O2Sat', 'Oxy_µmol/Kg', 'BtlNum',\n",
      "       'RecInd', 'T_prec', 'T_qual', 'S_prec', 'S_qual', 'P_qual', 'O_qual',\n",
      "       'SThtaq', 'O2Satq', 'ChlorA', 'Chlqua', 'Phaeop', 'Phaqua', 'PO4uM',\n",
      "       'PO4q', 'SiO3uM', 'SiO3qu', 'NO2uM', 'NO2q', 'NO3uM', 'NO3q', 'NH3uM',\n",
      "       'NH3q', 'C14As1', 'C14A1p', 'C14A1q', 'C14As2', 'C14A2p', 'C14A2q',\n",
      "       'DarkAs', 'DarkAp', 'DarkAq', 'MeanAs', 'MeanAp', 'MeanAq', 'IncTim',\n",
      "       'LightP', 'R_Depth', 'R_TEMP', 'R_Sal', 'R_DYNHT', 'R_Nuts',\n",
      "       'R_Oxy_µmol/Kg', 'DIC1', 'DIC2', 'TA1', 'TA2', 'pH1', 'pH2',\n",
      "       'DIC Quality Comment'],\n",
      "      dtype='object')\n",
      "<class 'pandas.core.frame.DataFrame'>\n",
      "RangeIndex: 38819 entries, 0 to 38818\n",
      "Data columns (total 62 columns):\n",
      " #   Column               Non-Null Count  Dtype  \n",
      "---  ------               --------------  -----  \n",
      " 0   Cst_Cnt              38819 non-null  int64  \n",
      " 1   Btl_Cnt              38819 non-null  int64  \n",
      " 2   Sta_ID               38819 non-null  object \n",
      " 3   Depth_ID             38819 non-null  object \n",
      " 4   Depthm               38819 non-null  int64  \n",
      " 5   T_degC               38819 non-null  float64\n",
      " 6   Salnty               38810 non-null  float64\n",
      " 7   O2ml_L               37931 non-null  float64\n",
      " 8   STheta               38479 non-null  float64\n",
      " 9   O2Sat                37902 non-null  float64\n",
      " 10  Oxy_µmol/Kg          37898 non-null  float64\n",
      " 11  BtlNum               26083 non-null  float64\n",
      " 12  RecInd               38819 non-null  int64  \n",
      " 13  T_prec               38819 non-null  int64  \n",
      " 14  T_qual               4168 non-null   float64\n",
      " 15  S_prec               38810 non-null  float64\n",
      " 16  S_qual               11750 non-null  float64\n",
      " 17  P_qual               4436 non-null   float64\n",
      " 18  O_qual               10016 non-null  float64\n",
      " 19  SThtaq               5593 non-null   float64\n",
      " 20  O2Satq               7527 non-null   float64\n",
      " 21  ChlorA               26230 non-null  float64\n",
      " 22  Chlqua               12004 non-null  float64\n",
      " 23  Phaeop               26230 non-null  float64\n",
      " 24  Phaqua               12004 non-null  float64\n",
      " 25  PO4uM                35415 non-null  float64\n",
      " 26  PO4q                 3342 non-null   float64\n",
      " 27  SiO3uM               35420 non-null  float64\n",
      " 28  SiO3qu               3338 non-null   float64\n",
      " 29  NO2uM                35420 non-null  float64\n",
      " 30  NO2q                 3559 non-null   float64\n",
      " 31  NO3uM                35418 non-null  float64\n",
      " 32  NO3q                 3474 non-null   float64\n",
      " 33  NH3uM                34725 non-null  float64\n",
      " 34  NH3q                 4183 non-null   float64\n",
      " 35  C14As1               2032 non-null   float64\n",
      " 36  C14A1p               1143 non-null   float64\n",
      " 37  C14A1q               34958 non-null  float64\n",
      " 38  C14As2               2032 non-null   float64\n",
      " 39  C14A2p               1143 non-null   float64\n",
      " 40  C14A2q               34958 non-null  float64\n",
      " 41  DarkAs               3019 non-null   float64\n",
      " 42  DarkAp               1685 non-null   float64\n",
      " 43  DarkAq               34023 non-null  float64\n",
      " 44  MeanAs               3020 non-null   float64\n",
      " 45  MeanAp               1685 non-null   float64\n",
      " 46  MeanAq               34022 non-null  float64\n",
      " 47  IncTim               2025 non-null   object \n",
      " 48  LightP               1338 non-null   float64\n",
      " 49  R_Depth              38819 non-null  int64  \n",
      " 50  R_TEMP               38813 non-null  float64\n",
      " 51  R_Sal                38810 non-null  float64\n",
      " 52  R_DYNHT              38819 non-null  float64\n",
      " 53  R_Nuts               34745 non-null  float64\n",
      " 54  R_Oxy_µmol/Kg        37898 non-null  float64\n",
      " 55  DIC1                 1429 non-null   float64\n",
      " 56  DIC2                 153 non-null    float64\n",
      " 57  TA1                  1468 non-null   float64\n",
      " 58  TA2                  157 non-null    float64\n",
      " 59  pH1                  38 non-null     float64\n",
      " 60  pH2                  4 non-null      float64\n",
      " 61  DIC Quality Comment  37 non-null     object \n",
      "dtypes: float64(52), int64(6), object(4)\n",
      "memory usage: 18.4+ MB\n"
     ]
    }
   ],
   "source": [
    "print(bottle1.columns)\n",
    "bottle1.head()\n",
    "bottle1.info()"
   ]
  },
  {
   "cell_type": "code",
   "execution_count": 5,
   "metadata": {},
   "outputs": [
    {
     "name": "stdout",
     "output_type": "stream",
     "text": [
      "<class 'pandas.core.frame.DataFrame'>\n",
      "Int64Index: 24512 entries, 0 to 38818\n",
      "Data columns (total 5 columns):\n",
      " #   Column    Non-Null Count  Dtype  \n",
      "---  ------    --------------  -----  \n",
      " 0   Depthm    24512 non-null  int64  \n",
      " 1   T_degC    24512 non-null  float64\n",
      " 2   SiO3uM    24512 non-null  float64\n",
      " 3   PO4uM     24512 non-null  float64\n",
      " 4   nitrogen  24512 non-null  float64\n",
      "dtypes: float64(4), int64(1)\n",
      "memory usage: 1.1 MB\n"
     ]
    },
    {
     "name": "stderr",
     "output_type": "stream",
     "text": [
      "/Users/annaleaohalloran/opt/anaconda3/lib/python3.7/site-packages/ipykernel_launcher.py:4: SettingWithCopyWarning: \n",
      "A value is trying to be set on a copy of a slice from a DataFrame\n",
      "\n",
      "See the caveats in the documentation: https://pandas.pydata.org/pandas-docs/stable/user_guide/indexing.html#returning-a-view-versus-a-copy\n",
      "  after removing the cwd from sys.path.\n"
     ]
    }
   ],
   "source": [
    "#extracting features we will use\n",
    "bottle1['nitrogen'] = bottle1['NO3uM'] + bottle1['NO2uM'] + bottle1['NH3uM']\n",
    "temp = bottle1[['Depthm', 'T_degC', 'SiO3uM', 'PO4uM', 'nitrogen', 'ChlorA']]\n",
    "temp.dropna(inplace=True)\n",
    "X = temp[['Depthm', 'T_degC', 'SiO3uM', 'PO4uM', 'nitrogen']]\n",
    "y = temp['ChlorA']\n",
    "\n",
    "\n",
    "X.info()\n"
   ]
  },
  {
   "cell_type": "code",
   "execution_count": 6,
   "metadata": {},
   "outputs": [
    {
     "data": {
      "text/html": [
       "<div>\n",
       "<style scoped>\n",
       "    .dataframe tbody tr th:only-of-type {\n",
       "        vertical-align: middle;\n",
       "    }\n",
       "\n",
       "    .dataframe tbody tr th {\n",
       "        vertical-align: top;\n",
       "    }\n",
       "\n",
       "    .dataframe thead th {\n",
       "        text-align: right;\n",
       "    }\n",
       "</style>\n",
       "<table border=\"1\" class=\"dataframe\">\n",
       "  <thead>\n",
       "    <tr style=\"text-align: right;\">\n",
       "      <th></th>\n",
       "      <th>Depthm</th>\n",
       "      <th>T_degC</th>\n",
       "      <th>SiO3uM</th>\n",
       "      <th>PO4uM</th>\n",
       "      <th>nitrogen</th>\n",
       "    </tr>\n",
       "  </thead>\n",
       "  <tbody>\n",
       "    <tr>\n",
       "      <th>0</th>\n",
       "      <td>0</td>\n",
       "      <td>16.360</td>\n",
       "      <td>2.80</td>\n",
       "      <td>0.32</td>\n",
       "      <td>0.000</td>\n",
       "    </tr>\n",
       "    <tr>\n",
       "      <th>1</th>\n",
       "      <td>2</td>\n",
       "      <td>16.360</td>\n",
       "      <td>2.80</td>\n",
       "      <td>0.32</td>\n",
       "      <td>0.000</td>\n",
       "    </tr>\n",
       "    <tr>\n",
       "      <th>2</th>\n",
       "      <td>5</td>\n",
       "      <td>15.920</td>\n",
       "      <td>3.00</td>\n",
       "      <td>0.34</td>\n",
       "      <td>0.000</td>\n",
       "    </tr>\n",
       "    <tr>\n",
       "      <th>3</th>\n",
       "      <td>10</td>\n",
       "      <td>15.620</td>\n",
       "      <td>3.30</td>\n",
       "      <td>0.37</td>\n",
       "      <td>0.120</td>\n",
       "    </tr>\n",
       "    <tr>\n",
       "      <th>4</th>\n",
       "      <td>11</td>\n",
       "      <td>15.600</td>\n",
       "      <td>3.30</td>\n",
       "      <td>0.37</td>\n",
       "      <td>0.120</td>\n",
       "    </tr>\n",
       "    <tr>\n",
       "      <th>...</th>\n",
       "      <td>...</td>\n",
       "      <td>...</td>\n",
       "      <td>...</td>\n",
       "      <td>...</td>\n",
       "      <td>...</td>\n",
       "    </tr>\n",
       "    <tr>\n",
       "      <th>38814</th>\n",
       "      <td>0</td>\n",
       "      <td>19.672</td>\n",
       "      <td>2.96</td>\n",
       "      <td>0.33</td>\n",
       "      <td>0.182</td>\n",
       "    </tr>\n",
       "    <tr>\n",
       "      <th>38815</th>\n",
       "      <td>2</td>\n",
       "      <td>19.672</td>\n",
       "      <td>2.96</td>\n",
       "      <td>0.33</td>\n",
       "      <td>0.142</td>\n",
       "    </tr>\n",
       "    <tr>\n",
       "      <th>38816</th>\n",
       "      <td>5</td>\n",
       "      <td>19.022</td>\n",
       "      <td>2.98</td>\n",
       "      <td>0.33</td>\n",
       "      <td>0.290</td>\n",
       "    </tr>\n",
       "    <tr>\n",
       "      <th>38817</th>\n",
       "      <td>10</td>\n",
       "      <td>18.722</td>\n",
       "      <td>3.06</td>\n",
       "      <td>0.34</td>\n",
       "      <td>0.199</td>\n",
       "    </tr>\n",
       "    <tr>\n",
       "      <th>38818</th>\n",
       "      <td>15</td>\n",
       "      <td>18.291</td>\n",
       "      <td>3.49</td>\n",
       "      <td>0.38</td>\n",
       "      <td>0.531</td>\n",
       "    </tr>\n",
       "  </tbody>\n",
       "</table>\n",
       "<p>24512 rows × 5 columns</p>\n",
       "</div>"
      ],
      "text/plain": [
       "       Depthm  T_degC  SiO3uM  PO4uM  nitrogen\n",
       "0           0  16.360    2.80   0.32     0.000\n",
       "1           2  16.360    2.80   0.32     0.000\n",
       "2           5  15.920    3.00   0.34     0.000\n",
       "3          10  15.620    3.30   0.37     0.120\n",
       "4          11  15.600    3.30   0.37     0.120\n",
       "...       ...     ...     ...    ...       ...\n",
       "38814       0  19.672    2.96   0.33     0.182\n",
       "38815       2  19.672    2.96   0.33     0.142\n",
       "38816       5  19.022    2.98   0.33     0.290\n",
       "38817      10  18.722    3.06   0.34     0.199\n",
       "38818      15  18.291    3.49   0.38     0.531\n",
       "\n",
       "[24512 rows x 5 columns]"
      ]
     },
     "metadata": {},
     "output_type": "display_data"
    },
    {
     "data": {
      "text/plain": [
       "0        0.770\n",
       "1        0.770\n",
       "2        0.950\n",
       "3        1.320\n",
       "4        1.380\n",
       "         ...  \n",
       "38814    0.611\n",
       "38815    0.611\n",
       "38816    0.356\n",
       "38817    0.486\n",
       "38818    0.735\n",
       "Name: ChlorA, Length: 24512, dtype: float64"
      ]
     },
     "metadata": {},
     "output_type": "display_data"
    }
   ],
   "source": [
    "display(X) #inputs\n",
    "display(y) #targets"
   ]
  },
  {
   "cell_type": "code",
   "execution_count": 7,
   "metadata": {},
   "outputs": [
    {
     "data": {
      "text/plain": [
       "0"
      ]
     },
     "execution_count": 7,
     "metadata": {},
     "output_type": "execute_result"
    }
   ],
   "source": [
    "y.isna().sum()"
   ]
  },
  {
   "cell_type": "markdown",
   "metadata": {},
   "source": [
    "## Trying out different algorithms from sci-kit learn"
   ]
  },
  {
   "cell_type": "code",
   "execution_count": 10,
   "metadata": {
    "scrolled": true
   },
   "outputs": [
    {
     "name": "stdout",
     "output_type": "stream",
     "text": [
      "Linear regression:\n",
      "0.15614814911926944\n",
      "0.1568742981037694\n"
     ]
    },
    {
     "ename": "AttributeError",
     "evalue": "'DecisionTreeRegressor' object has no attribute 'DecisionTreeRegressor'",
     "output_type": "error",
     "traceback": [
      "\u001b[0;31m---------------------------------------------------------------------------\u001b[0m",
      "\u001b[0;31mAttributeError\u001b[0m                            Traceback (most recent call last)",
      "\u001b[0;32m<ipython-input-10-047ba41eeb9c>\u001b[0m in \u001b[0;36m<module>\u001b[0;34m\u001b[0m\n\u001b[1;32m      7\u001b[0m \u001b[0mprint\u001b[0m\u001b[0;34m(\u001b[0m\u001b[0mreg\u001b[0m\u001b[0;34m.\u001b[0m\u001b[0mscore\u001b[0m\u001b[0;34m(\u001b[0m\u001b[0mX_test\u001b[0m\u001b[0;34m,\u001b[0m \u001b[0my_test\u001b[0m\u001b[0;34m)\u001b[0m\u001b[0;34m)\u001b[0m\u001b[0;34m\u001b[0m\u001b[0;34m\u001b[0m\u001b[0m\n\u001b[1;32m      8\u001b[0m \u001b[0;34m\u001b[0m\u001b[0m\n\u001b[0;32m----> 9\u001b[0;31m \u001b[0mtree\u001b[0m \u001b[0;34m=\u001b[0m \u001b[0mtree\u001b[0m\u001b[0;34m.\u001b[0m\u001b[0mDecisionTreeRegressor\u001b[0m\u001b[0;34m(\u001b[0m\u001b[0;34m)\u001b[0m\u001b[0;34m.\u001b[0m\u001b[0mfit\u001b[0m\u001b[0;34m(\u001b[0m\u001b[0mX_train\u001b[0m\u001b[0;34m,\u001b[0m\u001b[0my_train\u001b[0m\u001b[0;34m)\u001b[0m\u001b[0;34m\u001b[0m\u001b[0;34m\u001b[0m\u001b[0m\n\u001b[0m\u001b[1;32m     10\u001b[0m \u001b[0mprint\u001b[0m\u001b[0;34m(\u001b[0m\u001b[0;34m'Decision tree:'\u001b[0m\u001b[0;34m)\u001b[0m\u001b[0;34m\u001b[0m\u001b[0;34m\u001b[0m\u001b[0m\n\u001b[1;32m     11\u001b[0m \u001b[0mprint\u001b[0m\u001b[0;34m(\u001b[0m\u001b[0mtree\u001b[0m\u001b[0;34m.\u001b[0m\u001b[0mscore\u001b[0m\u001b[0;34m(\u001b[0m\u001b[0mX_train\u001b[0m\u001b[0;34m,\u001b[0m \u001b[0my_train\u001b[0m\u001b[0;34m)\u001b[0m\u001b[0;34m)\u001b[0m\u001b[0;34m\u001b[0m\u001b[0;34m\u001b[0m\u001b[0m\n",
      "\u001b[0;31mAttributeError\u001b[0m: 'DecisionTreeRegressor' object has no attribute 'DecisionTreeRegressor'"
     ]
    }
   ],
   "source": [
    "# goal: predict chlorA amount using inputs, and check performance by target - unscaled \n",
    "X_train, X_test, y_train, y_test = train_test_split(X, y, test_size=0.20, random_state=42)\n",
    "\n",
    "reg = LinearRegression().fit(X_train, y_train)\n",
    "print('Linear regression:')\n",
    "print(reg.score(X_train, y_train))\n",
    "print(reg.score(X_test, y_test))\n",
    "\n",
    "tree = tree.DecisionTreeRegressor().fit(X_train,y_train)\n",
    "print('Decision tree:')\n",
    "print(tree.score(X_train, y_train))\n",
    "print(tree.score(X_test, y_test))\n",
    "\n",
    "\n",
    "svm = svm.SVR().fit(X_train,y_train)\n",
    "print('SVM:')\n",
    "print(svm.score(X_train,y_train))\n",
    "print(svm.score(X_test,y_test))"
   ]
  },
  {
   "cell_type": "code",
   "execution_count": null,
   "metadata": {},
   "outputs": [],
   "source": [
    "nn = MLPRegressor(random_state=1, max_iter=500).fit(X_train, y_train)\n",
    "y_pred = nn.predict(X_test)\n",
    "print('NN:')\n",
    "print(nn.score(X_train,y_train))\n",
    "print(nn.score(X_test, y_test))\n",
    "print(r2_score(y_test,y_pred))\n"
   ]
  },
  {
   "cell_type": "code",
   "execution_count": 9,
   "metadata": {},
   "outputs": [
    {
     "name": "stdout",
     "output_type": "stream",
     "text": [
      "Linear regression:\n",
      "0.15614814911926944\n",
      "0.1568742981037694\n",
      "Decision tree:\n",
      "0.999999953175804\n",
      "0.34315833553488184\n",
      "SVM:\n",
      "0.1468039577008161\n",
      "0.135878013934841\n",
      "NN:\n",
      "0.37286049108764974\n",
      "0.34482422554367453\n",
      "0.34482422554367453\n"
     ]
    }
   ],
   "source": [
    "# scaled\n",
    "StandardScaler().fit_transform(X_train)\n",
    "StandardScaler().fit_transform(X_test)\n",
    "\n",
    "reg = LinearRegression().fit(X_train, y_train)\n",
    "print('Linear regression:')\n",
    "print(reg.score(X_train, y_train))\n",
    "print(reg.score(X_test, y_test))\n",
    "\n",
    "tree = tree.DecisionTreeRegressor().fit(X_train,y_train)\n",
    "print('Decision tree:')\n",
    "print(tree.score(X_train, y_train))\n",
    "print(tree.score(X_test, y_test))\n",
    "\n",
    "\n",
    "svm = svm.SVR().fit(X_train,y_train)\n",
    "print('SVM:')\n",
    "print(svm.score(X_train,y_train))\n",
    "print(svm.score(X_test,y_test))\n",
    "\n",
    "nn = MLPRegressor(random_state=1, max_iter=500).fit(X_train, y_train)\n",
    "y_pred = nn.predict(X_test) # this is for r2_score\n",
    "print('NN:')\n",
    "print(nn.score(X_train,y_train))\n",
    "print(nn.score(X_test, y_test))\n",
    "print(r2_score(y_test,y_pred)) #same as above line\n"
   ]
  },
  {
   "cell_type": "code",
   "execution_count": null,
   "metadata": {},
   "outputs": [],
   "source": []
  }
 ],
 "metadata": {
  "kernelspec": {
   "display_name": "Python 3",
   "language": "python",
   "name": "python3"
  },
  "language_info": {
   "codemirror_mode": {
    "name": "ipython",
    "version": 3
   },
   "file_extension": ".py",
   "mimetype": "text/x-python",
   "name": "python",
   "nbconvert_exporter": "python",
   "pygments_lexer": "ipython3",
   "version": "3.7.6"
  }
 },
 "nbformat": 4,
 "nbformat_minor": 4
}
