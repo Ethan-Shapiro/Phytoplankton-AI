{
 "cells": [
  {
   "cell_type": "markdown",
   "metadata": {},
   "source": [
    "## Imports "
   ]
  },
  {
   "cell_type": "code",
   "execution_count": 8,
   "metadata": {},
   "outputs": [],
   "source": [
    "import pandas as pd\n",
    "import matplotlib.pyplot as plt\n",
    "import numpy as np\n",
    "import math\n",
    "\n",
    "from sklearn import linear_model\n",
    "from sklearn.model_selection import train_test_split\n",
    "from sklearn.linear_model import LinearRegression\n",
    "from sklearn import tree, svm\n",
    "from sklearn.neural_network import MLPRegressor\n",
    "from sklearn.metrics import r2_score\n",
    "from sklearn.preprocessing import StandardScaler\n",
    "from sklearn.ensemble import RandomForestRegressor\n",
    "from sklearn.neighbors import KNeighborsRegressor\n",
    "from sklearn.ensemble import ExtraTreesRegressor\n",
    "\n",
    "import torch\n",
    "from torch import nn\n",
    "from torch.utils.data import Dataset, DataLoader"
   ]
  },
  {
   "cell_type": "markdown",
   "metadata": {},
   "source": [
    "## Data"
   ]
  },
  {
   "cell_type": "code",
   "execution_count": 2,
   "metadata": {},
   "outputs": [
    {
     "name": "stderr",
     "output_type": "stream",
     "text": [
      "/Users/annaleaohalloran/opt/anaconda3/lib/python3.7/site-packages/IPython/core/interactiveshell.py:3063: DtypeWarning: Columns (0,1,4,5,6,7,8,9,10,11,12,13,14,15,16,17,18,19,20,21,22,23,24,25,26,27,28,29,30,31,32,33,34,35,36,37,38,39,40,41,42,43,44,45,46,48,49,50,51,52,53,54,55,56,57,58,59,60,61) have mixed types.Specify dtype option on import or set low_memory=False.\n",
      "  interactivity=interactivity, compiler=compiler, result=result)\n"
     ]
    }
   ],
   "source": [
    "bottle1 = pd.read_csv(\"bottle_data_2010-14.csv\")\n",
    "bottle2 = pd.read_csv(\"bottle_Data_2015to19.csv\", header=None)\n",
    "cast = pd.read_csv(\"cast_Data_2015to19.csv\")\n",
    "cc = pd.read_csv('CC_Bottle_Cast.csv')"
   ]
  },
  {
   "cell_type": "code",
   "execution_count": 3,
   "metadata": {},
   "outputs": [
    {
     "name": "stderr",
     "output_type": "stream",
     "text": [
      "/Users/annaleaohalloran/opt/anaconda3/lib/python3.7/site-packages/IPython/core/interactiveshell.py:3063: DtypeWarning: Columns (47,61) have mixed types.Specify dtype option on import or set low_memory=False.\n",
      "  interactivity=interactivity, compiler=compiler, result=result)\n"
     ]
    }
   ],
   "source": [
    "bottle = pd.read_csv(\"bottle.csv\", encoding='utf-8')"
   ]
  },
  {
   "cell_type": "code",
   "execution_count": null,
   "metadata": {},
   "outputs": [],
   "source": [
    "print(bottle1.columns)\n",
    "bottle1.head()\n",
    "bottle1.info()"
   ]
  },
  {
   "cell_type": "code",
   "execution_count": null,
   "metadata": {},
   "outputs": [],
   "source": [
    "#extracting features we will use\n",
    "bottle1['nitrogen'] = bottle1['NO3uM'] + bottle1['NO2uM'] + bottle1['NH3uM']\n",
    "temp = bottle1[['Depthm', 'T_degC', 'SiO3uM', 'PO4uM', 'nitrogen', 'ChlorA']]\n",
    "temp.dropna(inplace=True)\n",
    "X = temp[['Depthm', 'T_degC', 'SiO3uM', 'PO4uM', 'nitrogen']]\n",
    "y = temp['ChlorA']\n",
    "\n",
    "\n",
    "X.info()\n"
   ]
  },
  {
   "cell_type": "code",
   "execution_count": 16,
   "metadata": {},
   "outputs": [
    {
     "data": {
      "text/html": [
       "<div>\n",
       "<style scoped>\n",
       "    .dataframe tbody tr th:only-of-type {\n",
       "        vertical-align: middle;\n",
       "    }\n",
       "\n",
       "    .dataframe tbody tr th {\n",
       "        vertical-align: top;\n",
       "    }\n",
       "\n",
       "    .dataframe thead th {\n",
       "        text-align: right;\n",
       "    }\n",
       "</style>\n",
       "<table border=\"1\" class=\"dataframe\">\n",
       "  <thead>\n",
       "    <tr style=\"text-align: right;\">\n",
       "      <th></th>\n",
       "      <th>Depthm</th>\n",
       "      <th>T_degC</th>\n",
       "      <th>SiO3uM</th>\n",
       "      <th>PO4uM</th>\n",
       "      <th>nitrogen</th>\n",
       "    </tr>\n",
       "  </thead>\n",
       "  <tbody>\n",
       "    <tr>\n",
       "      <th>792576</th>\n",
       "      <td>0</td>\n",
       "      <td>12.140</td>\n",
       "      <td>9.60</td>\n",
       "      <td>0.88</td>\n",
       "      <td>8.780</td>\n",
       "    </tr>\n",
       "    <tr>\n",
       "      <th>792577</th>\n",
       "      <td>2</td>\n",
       "      <td>12.140</td>\n",
       "      <td>9.60</td>\n",
       "      <td>0.88</td>\n",
       "      <td>8.780</td>\n",
       "    </tr>\n",
       "    <tr>\n",
       "      <th>792578</th>\n",
       "      <td>6</td>\n",
       "      <td>12.140</td>\n",
       "      <td>9.50</td>\n",
       "      <td>0.87</td>\n",
       "      <td>8.770</td>\n",
       "    </tr>\n",
       "    <tr>\n",
       "      <th>792579</th>\n",
       "      <td>10</td>\n",
       "      <td>12.150</td>\n",
       "      <td>9.50</td>\n",
       "      <td>0.87</td>\n",
       "      <td>8.790</td>\n",
       "    </tr>\n",
       "    <tr>\n",
       "      <th>792580</th>\n",
       "      <td>20</td>\n",
       "      <td>12.150</td>\n",
       "      <td>9.50</td>\n",
       "      <td>0.88</td>\n",
       "      <td>8.720</td>\n",
       "    </tr>\n",
       "    <tr>\n",
       "      <th>...</th>\n",
       "      <td>...</td>\n",
       "      <td>...</td>\n",
       "      <td>...</td>\n",
       "      <td>...</td>\n",
       "      <td>...</td>\n",
       "    </tr>\n",
       "    <tr>\n",
       "      <th>887002</th>\n",
       "      <td>200</td>\n",
       "      <td>9.989</td>\n",
       "      <td>17.02</td>\n",
       "      <td>1.31</td>\n",
       "      <td>17.450</td>\n",
       "    </tr>\n",
       "    <tr>\n",
       "      <th>887013</th>\n",
       "      <td>0</td>\n",
       "      <td>17.790</td>\n",
       "      <td>2.22</td>\n",
       "      <td>0.16</td>\n",
       "      <td>0.122</td>\n",
       "    </tr>\n",
       "    <tr>\n",
       "      <th>887014</th>\n",
       "      <td>2</td>\n",
       "      <td>17.790</td>\n",
       "      <td>2.22</td>\n",
       "      <td>0.16</td>\n",
       "      <td>0.100</td>\n",
       "    </tr>\n",
       "    <tr>\n",
       "      <th>887015</th>\n",
       "      <td>6</td>\n",
       "      <td>17.278</td>\n",
       "      <td>2.40</td>\n",
       "      <td>0.21</td>\n",
       "      <td>0.240</td>\n",
       "    </tr>\n",
       "    <tr>\n",
       "      <th>887017</th>\n",
       "      <td>11</td>\n",
       "      <td>17.145</td>\n",
       "      <td>2.77</td>\n",
       "      <td>0.26</td>\n",
       "      <td>0.728</td>\n",
       "    </tr>\n",
       "  </tbody>\n",
       "</table>\n",
       "<p>58927 rows × 5 columns</p>\n",
       "</div>"
      ],
      "text/plain": [
       "        Depthm  T_degC  SiO3uM  PO4uM  nitrogen\n",
       "792576       0  12.140    9.60   0.88     8.780\n",
       "792577       2  12.140    9.60   0.88     8.780\n",
       "792578       6  12.140    9.50   0.87     8.770\n",
       "792579      10  12.150    9.50   0.87     8.790\n",
       "792580      20  12.150    9.50   0.88     8.720\n",
       "...        ...     ...     ...    ...       ...\n",
       "887002     200   9.989   17.02   1.31    17.450\n",
       "887013       0  17.790    2.22   0.16     0.122\n",
       "887014       2  17.790    2.22   0.16     0.100\n",
       "887015       6  17.278    2.40   0.21     0.240\n",
       "887017      11  17.145    2.77   0.26     0.728\n",
       "\n",
       "[58927 rows x 5 columns]"
      ]
     },
     "metadata": {},
     "output_type": "display_data"
    },
    {
     "data": {
      "text/plain": [
       "792576    1.000\n",
       "792577    1.000\n",
       "792578    1.060\n",
       "792579    1.000\n",
       "792580    0.960\n",
       "          ...  \n",
       "887002    0.017\n",
       "887013    2.123\n",
       "887014    2.123\n",
       "887015    2.664\n",
       "887017    3.306\n",
       "Name: ChlorA, Length: 58927, dtype: float64"
      ]
     },
     "metadata": {},
     "output_type": "display_data"
    }
   ],
   "source": [
    "display(X) #inputs\n",
    "display(y) #targets"
   ]
  },
  {
   "cell_type": "code",
   "execution_count": null,
   "metadata": {},
   "outputs": [],
   "source": [
    "y.isna().sum()"
   ]
  },
  {
   "cell_type": "markdown",
   "metadata": {},
   "source": [
    "## Trying out different algorithms from sci-kit learn on Bottle 2010-2014"
   ]
  },
  {
   "cell_type": "code",
   "execution_count": null,
   "metadata": {
    "scrolled": true
   },
   "outputs": [],
   "source": [
    "# goal: predict chlorA amount using inputs, and check performance by target - unscaled \n",
    "X_train, X_test, y_train, y_test = train_test_split(X, y, test_size=0.20, random_state=42)\n",
    "\n",
    "reg = LinearRegression().fit(X_train, y_train)\n",
    "print('Linear regression:')\n",
    "print(reg.score(X_train, y_train))\n",
    "print(reg.score(X_test, y_test))\n",
    "\n",
    "tree = tree.DecisionTreeRegressor().fit(X_train,y_train)\n",
    "print('Decision tree:')\n",
    "print(tree.score(X_train, y_train))\n",
    "print(tree.score(X_test, y_test))\n",
    "\n",
    "\n",
    "svm = svm.SVR().fit(X_train,y_train)\n",
    "print('SVM:')\n",
    "print(svm.score(X_train,y_train))\n",
    "print(svm.score(X_test,y_test))"
   ]
  },
  {
   "cell_type": "code",
   "execution_count": null,
   "metadata": {},
   "outputs": [],
   "source": [
    "nn = MLPRegressor(random_state=1, max_iter=500).fit(X_train, y_train)\n",
    "y_pred = nn.predict(X_test)\n",
    "print('NN:')\n",
    "print(nn.score(X_train,y_train))\n",
    "print(nn.score(X_test, y_test))\n",
    "print(r2_score(y_test,y_pred))\n"
   ]
  },
  {
   "cell_type": "code",
   "execution_count": null,
   "metadata": {},
   "outputs": [],
   "source": [
    "rf = RandomForestRegressor().fit(X_train, y_train)\n",
    "print('RF:')\n",
    "print(rf.score(X_train,y_train))\n",
    "print(rf.score(X_test, y_test))"
   ]
  },
  {
   "cell_type": "code",
   "execution_count": null,
   "metadata": {},
   "outputs": [],
   "source": [
    "rf = RandomForestRegressor().fit(X_train, y_train)\n",
    "print('RF:')\n",
    "print(rf.score(X_train,y_train))\n",
    "print(rf.score(X_test, y_test))"
   ]
  },
  {
   "cell_type": "code",
   "execution_count": null,
   "metadata": {},
   "outputs": [],
   "source": [
    "knn = KNeighborsRegressor().fit(X_train, y_train)\n",
    "print('RF:')\n",
    "print(knn.score(X_train,y_train))\n",
    "print(knn.score(X_test, y_test))"
   ]
  },
  {
   "cell_type": "code",
   "execution_count": null,
   "metadata": {},
   "outputs": [],
   "source": []
  },
  {
   "cell_type": "code",
   "execution_count": null,
   "metadata": {},
   "outputs": [],
   "source": [
    "# scaled\n",
    "X_train_t= StandardScaler().fit_transform(X_train)\n",
    "X_test_t = StandardScaler().fit_transform(X_test)\n",
    "\n",
    "reg = LinearRegression().fit(X_train_t, y_train)\n",
    "print('Linear regression:')\n",
    "print(reg.score(X_train_t, y_train))\n",
    "print(reg.score(X_test_t, y_test))\n",
    "\n",
    "tree = tree.DecisionTreeRegressor().fit(X_train_t,y_train)\n",
    "print('Decision tree:')\n",
    "print(tree.score(X_train_t, y_train))\n",
    "print(tree.score(X_test_t, y_test))\n",
    "\n",
    "\n",
    "svm = svm.SVR().fit(X_train_t,y_train)\n",
    "print('SVM:')\n",
    "print(svm.score(X_train_t,y_train))\n",
    "print(svm.score(X_test_t,y_test))\n",
    "\n",
    "nn = MLPRegressor(random_state=1, max_iter=500).fit(X_train_t, y_train)\n",
    "y_pred = nn.predict(X_test) # this is for r2_score\n",
    "print('NN:')\n",
    "print(nn.score(X_train_t,y_train))\n",
    "print(nn.score(X_test_t, y_test))\n",
    "print(r2_score(y_test_t,y_pred)) #same as above line\n"
   ]
  },
  {
   "cell_type": "markdown",
   "metadata": {},
   "source": [
    "## Same algos but Bottle 2010-2019"
   ]
  },
  {
   "cell_type": "code",
   "execution_count": 4,
   "metadata": {},
   "outputs": [
    {
     "name": "stdout",
     "output_type": "stream",
     "text": [
      "<class 'pandas.core.frame.DataFrame'>\n",
      "Int64Index: 58927 entries, 792576 to 887017\n",
      "Data columns (total 5 columns):\n",
      " #   Column    Non-Null Count  Dtype  \n",
      "---  ------    --------------  -----  \n",
      " 0   Depthm    58927 non-null  int64  \n",
      " 1   T_degC    58927 non-null  float64\n",
      " 2   SiO3uM    58927 non-null  float64\n",
      " 3   PO4uM     58927 non-null  float64\n",
      " 4   nitrogen  58927 non-null  float64\n",
      "dtypes: float64(4), int64(1)\n",
      "memory usage: 2.7 MB\n"
     ]
    },
    {
     "name": "stderr",
     "output_type": "stream",
     "text": [
      "/Users/annaleaohalloran/opt/anaconda3/lib/python3.7/site-packages/ipykernel_launcher.py:4: SettingWithCopyWarning: \n",
      "A value is trying to be set on a copy of a slice from a DataFrame\n",
      "\n",
      "See the caveats in the documentation: https://pandas.pydata.org/pandas-docs/stable/user_guide/indexing.html#returning-a-view-versus-a-copy\n",
      "  after removing the cwd from sys.path.\n"
     ]
    }
   ],
   "source": [
    "#extracting features we will use\n",
    "bottle['nitrogen'] = bottle['NO3uM'] + bottle['NO2uM'] + bottle['NH3uM']\n",
    "temp = bottle[['Depthm', 'T_degC', 'SiO3uM', 'PO4uM', 'nitrogen', 'ChlorA']]\n",
    "temp.dropna(inplace=True)\n",
    "X = temp[['Depthm', 'T_degC', 'SiO3uM', 'PO4uM', 'nitrogen']]\n",
    "y = temp['ChlorA']\n",
    "\n",
    "\n",
    "X.info()"
   ]
  },
  {
   "cell_type": "code",
   "execution_count": 5,
   "metadata": {},
   "outputs": [],
   "source": [
    "# goal: predict chlorA amount using inputs, and check performance by target - unscaled \n",
    "X_train, X_test, y_train, y_test = train_test_split(X, y, test_size=0.20, random_state=42)"
   ]
  },
  {
   "cell_type": "code",
   "execution_count": 6,
   "metadata": {},
   "outputs": [
    {
     "name": "stdout",
     "output_type": "stream",
     "text": [
      "Linear regression:\n",
      "0.17027485904710193\n",
      "0.16695400863129872\n",
      "Decision tree:\n",
      "0.9999999754969974\n",
      "0.38053934711366033\n",
      "SVM:\n",
      "0.1789310928744765\n",
      "0.16648054769683873\n",
      "NN:\n",
      "0.36501000120319094\n",
      "0.363351226922043\n",
      "0.363351226922043\n",
      "RF:\n",
      "0.94601213994346\n",
      "0.616950192561204\n",
      "RF:\n",
      "0.5821620076922642\n",
      "0.3299325546804426\n"
     ]
    }
   ],
   "source": [
    "reg = LinearRegression().fit(X_train, y_train)\n",
    "print('Linear regression:')\n",
    "print(reg.score(X_train, y_train))\n",
    "print(reg.score(X_test, y_test))\n",
    "\n",
    "tree = tree.DecisionTreeRegressor().fit(X_train,y_train)\n",
    "print('Decision tree:')\n",
    "print(tree.score(X_train, y_train))\n",
    "print(tree.score(X_test, y_test))\n",
    "\n",
    "\n",
    "svm = svm.SVR().fit(X_train,y_train)\n",
    "print('SVM:')\n",
    "print(svm.score(X_train,y_train))\n",
    "print(svm.score(X_test,y_test))\n",
    "\n",
    "nn = MLPRegressor(random_state=1, max_iter=500).fit(X_train, y_train)\n",
    "y_pred = nn.predict(X_test)\n",
    "print('NN:')\n",
    "print(nn.score(X_train,y_train))\n",
    "print(nn.score(X_test, y_test))\n",
    "print(r2_score(y_test,y_pred))\n",
    "\n",
    "rf = RandomForestRegressor().fit(X_train, y_train)\n",
    "print('RF:')\n",
    "print(rf.score(X_train,y_train))\n",
    "print(rf.score(X_test, y_test))\n",
    "\n",
    "knn = KNeighborsRegressor().fit(X_train, y_train)\n",
    "print('KNN:')\n",
    "print(knn.score(X_train,y_train))\n",
    "print(knn.score(X_test, y_test))"
   ]
  },
  {
   "cell_type": "code",
   "execution_count": 11,
   "metadata": {},
   "outputs": [
    {
     "name": "stdout",
     "output_type": "stream",
     "text": [
      "Linear regression:\n",
      "0.17027485904710193\n",
      "0.16696932414268473\n",
      "SVM:\n",
      "0.22465970573688987\n",
      "0.22219723724761295\n",
      "NN:\n",
      "0.4881825725856932\n",
      "0.46367574334096534\n"
     ]
    },
    {
     "ename": "NameError",
     "evalue": "name 'y_test_t' is not defined",
     "output_type": "error",
     "traceback": [
      "\u001b[0;31m---------------------------------------------------------------------------\u001b[0m",
      "\u001b[0;31mNameError\u001b[0m                                 Traceback (most recent call last)",
      "\u001b[0;32m<ipython-input-11-36268279851d>\u001b[0m in \u001b[0;36m<module>\u001b[0;34m\u001b[0m\n\u001b[1;32m     24\u001b[0m \u001b[0mprint\u001b[0m\u001b[0;34m(\u001b[0m\u001b[0mnn\u001b[0m\u001b[0;34m.\u001b[0m\u001b[0mscore\u001b[0m\u001b[0;34m(\u001b[0m\u001b[0mX_train_t\u001b[0m\u001b[0;34m,\u001b[0m\u001b[0my_train\u001b[0m\u001b[0;34m)\u001b[0m\u001b[0;34m)\u001b[0m\u001b[0;34m\u001b[0m\u001b[0;34m\u001b[0m\u001b[0m\n\u001b[1;32m     25\u001b[0m \u001b[0mprint\u001b[0m\u001b[0;34m(\u001b[0m\u001b[0mnn\u001b[0m\u001b[0;34m.\u001b[0m\u001b[0mscore\u001b[0m\u001b[0;34m(\u001b[0m\u001b[0mX_test_t\u001b[0m\u001b[0;34m,\u001b[0m \u001b[0my_test\u001b[0m\u001b[0;34m)\u001b[0m\u001b[0;34m)\u001b[0m\u001b[0;34m\u001b[0m\u001b[0;34m\u001b[0m\u001b[0m\n\u001b[0;32m---> 26\u001b[0;31m \u001b[0mprint\u001b[0m\u001b[0;34m(\u001b[0m\u001b[0mr2_score\u001b[0m\u001b[0;34m(\u001b[0m\u001b[0my_test_t\u001b[0m\u001b[0;34m,\u001b[0m\u001b[0my_pred\u001b[0m\u001b[0;34m)\u001b[0m\u001b[0;34m)\u001b[0m \u001b[0;31m#same as above line\u001b[0m\u001b[0;34m\u001b[0m\u001b[0;34m\u001b[0m\u001b[0m\n\u001b[0m\u001b[1;32m     27\u001b[0m \u001b[0;34m\u001b[0m\u001b[0m\n\u001b[1;32m     28\u001b[0m \u001b[0mrf\u001b[0m \u001b[0;34m=\u001b[0m \u001b[0mRandomForestRegressor\u001b[0m\u001b[0;34m(\u001b[0m\u001b[0;34m)\u001b[0m\u001b[0;34m.\u001b[0m\u001b[0mfit\u001b[0m\u001b[0;34m(\u001b[0m\u001b[0mX_train_t\u001b[0m\u001b[0;34m,\u001b[0m \u001b[0my_train\u001b[0m\u001b[0;34m)\u001b[0m\u001b[0;34m\u001b[0m\u001b[0;34m\u001b[0m\u001b[0m\n",
      "\u001b[0;31mNameError\u001b[0m: name 'y_test_t' is not defined"
     ]
    }
   ],
   "source": [
    "# scaled\n",
    "X_train_t= StandardScaler().fit_transform(X_train)\n",
    "X_test_t = StandardScaler().fit_transform(X_test)\n",
    "\n",
    "reg = LinearRegression().fit(X_train_t, y_train)\n",
    "print('Linear regression:')\n",
    "print(reg.score(X_train_t, y_train))\n",
    "print(reg.score(X_test_t, y_test))\n",
    "\n",
    "#tree = tree.DecisionTreeRegressor().fit(X_train_t,y_train)\n",
    "#print('Decision tree:')\n",
    "#print(tree.score(X_train_t, y_train))\n",
    "#print(tree.score(X_test_t, y_test))\n",
    "\n",
    "\n",
    "svm = svm.SVR().fit(X_train_t,y_train)\n",
    "print('SVM:')\n",
    "print(svm.score(X_train_t,y_train))\n",
    "print(svm.score(X_test_t,y_test))\n",
    "\n",
    "nn = MLPRegressor(random_state=1, max_iter=500).fit(X_train_t, y_train)\n",
    "y_pred = nn.predict(X_test) # this is for r2_score\n",
    "print('NN:')\n",
    "print(nn.score(X_train_t,y_train))\n",
    "print(nn.score(X_test_t, y_test))\n",
    "print(r2_score(y_test_t,y_pred)) #same as above line\n",
    "\n",
    "rf = RandomForestRegressor().fit(X_train_t, y_train)\n",
    "print('RF:')\n",
    "print(rf.score(X_train_t,y_train))\n",
    "print(rf.score(X_test_t, y_test))\n",
    "\n",
    "knn = KNeighborsRegressor().fit(X_train_t, y_train)\n",
    "print('KNN:')\n",
    "print(knn.score(X_train_t,y_train))\n",
    "print(knn.score(X_test_t, y_test))"
   ]
  },
  {
   "cell_type": "code",
   "execution_count": 10,
   "metadata": {},
   "outputs": [
    {
     "name": "stdout",
     "output_type": "stream",
     "text": [
      "extra trees regressor:\n",
      "0.9999999755927401\n",
      "0.6130708082726\n",
      "extra trees regressor, standardized:\n",
      "0.9999999755926477\n",
      "0.5958338630989947\n"
     ]
    }
   ],
   "source": [
    "et = ExtraTreesRegressor().fit( X_train, y_train)\n",
    "print('extra trees regressor:')\n",
    "print(et.score(X_train, y_train))\n",
    "print(et.score(X_test, y_test))\n",
    "\n",
    "et = ExtraTreesRegressor().fit( X_train_t, y_train)\n",
    "print('extra trees regressor, standardized:')\n",
    "print(et.score(X_train_t, y_train))\n",
    "print(et.score(X_test_t, y_test))"
   ]
  },
  {
   "cell_type": "markdown",
   "metadata": {},
   "source": [
    "### Updates so far...\n",
    "- The best algorithms are: Random Forest Regressor and Extra Trees Regressor\n",
    "- Unstandarzied data seems better for those algorithms(we wont use the standard scaler)\n",
    "- They only reach about .61 in test scoring, which we want to be as close to 1 as possible \n",
    "- Linear regression , SVM, NN and KNN give trash scores"
   ]
  },
  {
   "cell_type": "markdown",
   "metadata": {},
   "source": [
    "## Using CC_Bottle data\n",
    "The hope here is that with this cleaner, larger data with more predictive inputs we can make better predictions and get higher scores in testing. "
   ]
  },
  {
   "cell_type": "code",
   "execution_count": 29,
   "metadata": {},
   "outputs": [
    {
     "data": {
      "text/plain": [
       "(221588, 16)"
      ]
     },
     "execution_count": 29,
     "metadata": {},
     "output_type": "execute_result"
    }
   ],
   "source": [
    "cc.head()\n",
    "cc.shape"
   ]
  },
  {
   "cell_type": "code",
   "execution_count": 30,
   "metadata": {},
   "outputs": [
    {
     "name": "stdout",
     "output_type": "stream",
     "text": [
      "(221588, 10)\n"
     ]
    },
    {
     "name": "stderr",
     "output_type": "stream",
     "text": [
      "/Users/annaleaohalloran/opt/anaconda3/lib/python3.7/site-packages/ipykernel_launcher.py:3: SettingWithCopyWarning: \n",
      "A value is trying to be set on a copy of a slice from a DataFrame\n",
      "\n",
      "See the caveats in the documentation: https://pandas.pydata.org/pandas-docs/stable/user_guide/indexing.html#returning-a-view-versus-a-copy\n",
      "  This is separate from the ipykernel package so we can avoid doing imports until\n"
     ]
    }
   ],
   "source": [
    "temp2 = cc[['Depth', 'Temp', 'Silicate', 'Phosphate', 'Nitrogen', 'ChlorA', \n",
    "            'Month', 'Year', 'Lat_Dec', 'Lon_Dec']]\n",
    "temp2.dropna(inplace=True)\n",
    "X2 = temp2[['Depth', 'Temp', 'Silicate', 'Phosphate', 'Nitrogen', 'Month', 'Year', 'Lat_Dec', 'Lon_Dec']]\n",
    "y2 = temp2['ChlorA']\n",
    "\n",
    "print(temp2.shape)"
   ]
  },
  {
   "cell_type": "code",
   "execution_count": 26,
   "metadata": {},
   "outputs": [],
   "source": [
    "X_train2, X_test2, y_train2, y_test2 = train_test_split(X2, y2, test_size=0.20, random_state=42)"
   ]
  },
  {
   "cell_type": "code",
   "execution_count": 28,
   "metadata": {},
   "outputs": [
    {
     "name": "stdout",
     "output_type": "stream",
     "text": [
      "random forest regressor training & testing scores:\n",
      "0.9682409401904101\n",
      "0.8066752091338605\n",
      "extra trees regressor trianing & testing scores:\n",
      "0.9999999276094511\n",
      "0.846105616888695\n"
     ]
    }
   ],
   "source": [
    "rf = RandomForestRegressor().fit(X_train2, y_train2)\n",
    "print('random forest regressor training & testing scores:')\n",
    "print(rf.score(X_train2,y_train2))\n",
    "print(rf.score(X_test2, y_test2))\n",
    "\n",
    "et = ExtraTreesRegressor().fit( X_train2, y_train2)\n",
    "print('extra trees regressor trianing & testing scores:')\n",
    "print(et.score(X_train2, y_train2))\n",
    "print(et.score(X_test2, y_test2))"
   ]
  },
  {
   "cell_type": "code",
   "execution_count": 32,
   "metadata": {},
   "outputs": [
    {
     "name": "stdout",
     "output_type": "stream",
     "text": [
      "extra trees regressor trianing & testing scores:\n",
      "0.2746054747027029\n",
      "0.28453982333697936\n"
     ]
    }
   ],
   "source": [
    "# first attempt to play with parameters, notice that the scores went down.\n",
    "et = ExtraTreesRegressor(n_jobs=-1, n_estimators=100, max_depth=5, random_state=1).fit( X_train2, y_train2)\n",
    "print('extra trees regressor trianing & testing scores:')\n",
    "print(et.score(X_train2, y_train2))\n",
    "print(et.score(X_test2, y_test2))"
   ]
  },
  {
   "cell_type": "code",
   "execution_count": null,
   "metadata": {},
   "outputs": [],
   "source": []
  }
 ],
 "metadata": {
  "kernelspec": {
   "display_name": "Python 3",
   "language": "python",
   "name": "python3"
  },
  "language_info": {
   "codemirror_mode": {
    "name": "ipython",
    "version": 3
   },
   "file_extension": ".py",
   "mimetype": "text/x-python",
   "name": "python",
   "nbconvert_exporter": "python",
   "pygments_lexer": "ipython3",
   "version": "3.7.6"
  }
 },
 "nbformat": 4,
 "nbformat_minor": 4
}
