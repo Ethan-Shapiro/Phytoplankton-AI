{
 "cells": [
  {
   "cell_type": "markdown",
   "metadata": {},
   "source": [
    "# Imports "
   ]
  },
  {
   "cell_type": "code",
   "execution_count": 1,
   "metadata": {},
   "outputs": [],
   "source": [
    "import pandas as pd\n",
    "import matplotlib.pyplot as plt\n",
    "import numpy as np\n",
    "import math\n",
    "\n",
    "from sklearn import linear_model\n",
    "from sklearn.model_selection import train_test_split\n",
    "from sklearn.linear_model import LinearRegression\n",
    "from sklearn import tree, svm\n",
    "from sklearn.neural_network import MLPRegressor\n",
    "from sklearn.metrics import r2_score\n",
    "from sklearn.preprocessing import StandardScaler\n",
    "from sklearn.ensemble import RandomForestRegressor\n",
    "from sklearn.neighbors import KNeighborsRegressor\n",
    "from sklearn.ensemble import ExtraTreesRegressor\n",
    "\n",
    "import torch\n",
    "from torch import nn\n",
    "from torch.utils.data import Dataset, DataLoader"
   ]
  },
  {
   "cell_type": "markdown",
   "metadata": {},
   "source": [
    "# Data"
   ]
  },
  {
   "cell_type": "code",
   "execution_count": 29,
   "metadata": {},
   "outputs": [
    {
     "name": "stderr",
     "output_type": "stream",
     "text": [
      "/Users/annaleaohalloran/opt/anaconda3/lib/python3.7/site-packages/IPython/core/interactiveshell.py:3063: DtypeWarning: Columns (0,1,4,5,6,7,8,9,10,11,12,13,14,15,16,17,18,19,20,21,22,23,24,25,26,27,28,29,30,31,32,33,34,35,36,37,38,39,40,41,42,43,44,45,46,48,49,50,51,52,53,54,55,56,57,58,59,60,61) have mixed types.Specify dtype option on import or set low_memory=False.\n",
      "  interactivity=interactivity, compiler=compiler, result=result)\n"
     ]
    },
    {
     "data": {
      "text/plain": [
       "(221588, 16)"
      ]
     },
     "execution_count": 29,
     "metadata": {},
     "output_type": "execute_result"
    }
   ],
   "source": [
    "bottle1 = pd.read_csv(\"bottle_data_2010-14.csv\")\n",
    "bottle2 = pd.read_csv(\"bottle_Data_2015to19.csv\", header=None)\n",
    "cast = pd.read_csv(\"cast_Data_2015to19.csv\")\n",
    "cc = pd.read_csv('CC_Bottle_Cast.csv')\n",
    "cc.shape"
   ]
  },
  {
   "cell_type": "code",
   "execution_count": 3,
   "metadata": {},
   "outputs": [
    {
     "name": "stderr",
     "output_type": "stream",
     "text": [
      "/Users/annaleaohalloran/opt/anaconda3/lib/python3.7/site-packages/IPython/core/interactiveshell.py:3063: DtypeWarning: Columns (47,61) have mixed types.Specify dtype option on import or set low_memory=False.\n",
      "  interactivity=interactivity, compiler=compiler, result=result)\n"
     ]
    }
   ],
   "source": [
    "bottle = pd.read_csv(\"bottle.csv\", encoding='utf-8')"
   ]
  },
  {
   "cell_type": "code",
   "execution_count": null,
   "metadata": {},
   "outputs": [],
   "source": [
    "print(bottle1.columns)\n",
    "bottle1.head()\n",
    "bottle1.info()"
   ]
  },
  {
   "cell_type": "code",
   "execution_count": null,
   "metadata": {},
   "outputs": [],
   "source": [
    "#extracting features we will use\n",
    "bottle1['nitrogen'] = bottle1['NO3uM'] + bottle1['NO2uM'] + bottle1['NH3uM']\n",
    "temp = bottle1[['Depthm', 'T_degC', 'SiO3uM', 'PO4uM', 'nitrogen', 'ChlorA']]\n",
    "temp.dropna(inplace=True)\n",
    "X = temp[['Depthm', 'T_degC', 'SiO3uM', 'PO4uM', 'nitrogen']]\n",
    "y = temp['ChlorA']\n",
    "\n",
    "\n",
    "X.info()\n"
   ]
  },
  {
   "cell_type": "code",
   "execution_count": null,
   "metadata": {},
   "outputs": [],
   "source": [
    "display(X) #inputs\n",
    "display(y) #targets"
   ]
  },
  {
   "cell_type": "code",
   "execution_count": null,
   "metadata": {},
   "outputs": [],
   "source": [
    "y.isna().sum()"
   ]
  },
  {
   "cell_type": "markdown",
   "metadata": {},
   "source": [
    "# Exploring\n",
    "### Trying out different algorithms from sci-kit learn on Bottle 2010-2014"
   ]
  },
  {
   "cell_type": "code",
   "execution_count": null,
   "metadata": {
    "scrolled": true
   },
   "outputs": [],
   "source": [
    "# goal: predict chlorA amount using inputs, and check performance by target - unscaled \n",
    "X_train, X_test, y_train, y_test = train_test_split(X, y, test_size=0.20, random_state=42)\n",
    "\n",
    "reg = LinearRegression().fit(X_train, y_train)\n",
    "print('Linear regression:')\n",
    "print(reg.score(X_train, y_train))\n",
    "print(reg.score(X_test, y_test))\n",
    "\n",
    "tree = tree.DecisionTreeRegressor().fit(X_train,y_train)\n",
    "print('Decision tree:')\n",
    "print(tree.score(X_train, y_train))\n",
    "print(tree.score(X_test, y_test))\n",
    "\n",
    "\n",
    "svm = svm.SVR().fit(X_train,y_train)\n",
    "print('SVM:')\n",
    "print(svm.score(X_train,y_train))\n",
    "print(svm.score(X_test,y_test))"
   ]
  },
  {
   "cell_type": "code",
   "execution_count": null,
   "metadata": {},
   "outputs": [],
   "source": [
    "nn = MLPRegressor(random_state=1, max_iter=500).fit(X_train, y_train)\n",
    "y_pred = nn.predict(X_test)\n",
    "print('NN:')\n",
    "print(nn.score(X_train,y_train))\n",
    "print(nn.score(X_test, y_test))\n",
    "print(r2_score(y_test,y_pred))\n"
   ]
  },
  {
   "cell_type": "code",
   "execution_count": null,
   "metadata": {},
   "outputs": [],
   "source": [
    "rf = RandomForestRegressor().fit(X_train, y_train)\n",
    "print('RF:')\n",
    "print(rf.score(X_train,y_train))\n",
    "print(rf.score(X_test, y_test))"
   ]
  },
  {
   "cell_type": "code",
   "execution_count": null,
   "metadata": {},
   "outputs": [],
   "source": [
    "rf = RandomForestRegressor().fit(X_train, y_train)\n",
    "print('RF:')\n",
    "print(rf.score(X_train,y_train))\n",
    "print(rf.score(X_test, y_test))"
   ]
  },
  {
   "cell_type": "code",
   "execution_count": null,
   "metadata": {},
   "outputs": [],
   "source": [
    "knn = KNeighborsRegressor().fit(X_train, y_train)\n",
    "print('RF:')\n",
    "print(knn.score(X_train,y_train))\n",
    "print(knn.score(X_test, y_test))"
   ]
  },
  {
   "cell_type": "code",
   "execution_count": null,
   "metadata": {},
   "outputs": [],
   "source": []
  },
  {
   "cell_type": "code",
   "execution_count": null,
   "metadata": {},
   "outputs": [],
   "source": [
    "# scaled\n",
    "X_train_t= StandardScaler().fit_transform(X_train)\n",
    "X_test_t = StandardScaler().fit_transform(X_test)\n",
    "\n",
    "reg = LinearRegression().fit(X_train_t, y_train)\n",
    "print('Linear regression:')\n",
    "print(reg.score(X_train_t, y_train))\n",
    "print(reg.score(X_test_t, y_test))\n",
    "\n",
    "tree = tree.DecisionTreeRegressor().fit(X_train_t,y_train)\n",
    "print('Decision tree:')\n",
    "print(tree.score(X_train_t, y_train))\n",
    "print(tree.score(X_test_t, y_test))\n",
    "\n",
    "\n",
    "svm = svm.SVR().fit(X_train_t,y_train)\n",
    "print('SVM:')\n",
    "print(svm.score(X_train_t,y_train))\n",
    "print(svm.score(X_test_t,y_test))\n",
    "\n",
    "nn = MLPRegressor(random_state=1, max_iter=500).fit(X_train_t, y_train)\n",
    "y_pred = nn.predict(X_test) # this is for r2_score\n",
    "print('NN:')\n",
    "print(nn.score(X_train_t,y_train))\n",
    "print(nn.score(X_test_t, y_test))\n",
    "print(r2_score(y_test_t,y_pred)) #same as above line\n"
   ]
  },
  {
   "cell_type": "markdown",
   "metadata": {},
   "source": [
    "## Same algos but Bottle 2010-2019"
   ]
  },
  {
   "cell_type": "code",
   "execution_count": null,
   "metadata": {},
   "outputs": [],
   "source": [
    "#extracting features we will use\n",
    "bottle['nitrogen'] = bottle['NO3uM'] + bottle['NO2uM'] + bottle['NH3uM']\n",
    "temp = bottle[['Depthm', 'T_degC', 'SiO3uM', 'PO4uM', 'nitrogen', 'ChlorA']]\n",
    "temp.dropna(inplace=True)\n",
    "X = temp[['Depthm', 'T_degC', 'SiO3uM', 'PO4uM', 'nitrogen']]\n",
    "y = temp['ChlorA']\n",
    "\n",
    "\n",
    "X.info()"
   ]
  },
  {
   "cell_type": "code",
   "execution_count": null,
   "metadata": {},
   "outputs": [],
   "source": [
    "# goal: predict chlorA amount using inputs, and check performance by target - unscaled \n",
    "X_train, X_test, y_train, y_test = train_test_split(X, y, test_size=0.20, random_state=42)"
   ]
  },
  {
   "cell_type": "code",
   "execution_count": null,
   "metadata": {},
   "outputs": [],
   "source": [
    "reg = LinearRegression().fit(X_train, y_train)\n",
    "print('Linear regression:')\n",
    "print(reg.score(X_train, y_train))\n",
    "print(reg.score(X_test, y_test))\n",
    "\n",
    "tree = tree.DecisionTreeRegressor().fit(X_train,y_train)\n",
    "print('Decision tree:')\n",
    "print(tree.score(X_train, y_train))\n",
    "print(tree.score(X_test, y_test))\n",
    "\n",
    "\n",
    "svm = svm.SVR().fit(X_train,y_train)\n",
    "print('SVM:')\n",
    "print(svm.score(X_train,y_train))\n",
    "print(svm.score(X_test,y_test))\n",
    "\n",
    "nn = MLPRegressor(random_state=1, max_iter=500).fit(X_train, y_train)\n",
    "y_pred = nn.predict(X_test)\n",
    "print('NN:')\n",
    "print(nn.score(X_train,y_train))\n",
    "print(nn.score(X_test, y_test))\n",
    "print(r2_score(y_test,y_pred))\n",
    "\n",
    "rf = RandomForestRegressor().fit(X_train, y_train)\n",
    "print('RF:')\n",
    "print(rf.score(X_train,y_train))\n",
    "print(rf.score(X_test, y_test))\n",
    "\n",
    "knn = KNeighborsRegressor().fit(X_train, y_train)\n",
    "print('KNN:')\n",
    "print(knn.score(X_train,y_train))\n",
    "print(knn.score(X_test, y_test))"
   ]
  },
  {
   "cell_type": "code",
   "execution_count": null,
   "metadata": {},
   "outputs": [],
   "source": [
    "# scaled\n",
    "X_train_t= StandardScaler().fit_transform(X_train)\n",
    "X_test_t = StandardScaler().fit_transform(X_test)\n",
    "\n",
    "reg = LinearRegression().fit(X_train_t, y_train)\n",
    "print('Linear regression:')\n",
    "print(reg.score(X_train_t, y_train))\n",
    "print(reg.score(X_test_t, y_test))\n",
    "\n",
    "#tree = tree.DecisionTreeRegressor().fit(X_train_t,y_train)\n",
    "#print('Decision tree:')\n",
    "#print(tree.score(X_train_t, y_train))\n",
    "#print(tree.score(X_test_t, y_test))\n",
    "\n",
    "\n",
    "svm = svm.SVR().fit(X_train_t,y_train)\n",
    "print('SVM:')\n",
    "print(svm.score(X_train_t,y_train))\n",
    "print(svm.score(X_test_t,y_test))\n",
    "\n",
    "nn = MLPRegressor(random_state=1, max_iter=500).fit(X_train_t, y_train)\n",
    "y_pred = nn.predict(X_test) # this is for r2_score\n",
    "print('NN:')\n",
    "print(nn.score(X_train_t,y_train))\n",
    "print(nn.score(X_test_t, y_test))\n",
    "print(r2_score(y_test_t,y_pred)) #same as above line\n",
    "\n",
    "rf = RandomForestRegressor().fit(X_train_t, y_train)\n",
    "print('RF:')\n",
    "print(rf.score(X_train_t,y_train))\n",
    "print(rf.score(X_test_t, y_test))\n",
    "\n",
    "knn = KNeighborsRegressor().fit(X_train_t, y_train)\n",
    "print('KNN:')\n",
    "print(knn.score(X_train_t,y_train))\n",
    "print(knn.score(X_test_t, y_test))"
   ]
  },
  {
   "cell_type": "code",
   "execution_count": null,
   "metadata": {},
   "outputs": [],
   "source": [
    "et = ExtraTreesRegressor().fit( X_train, y_train)\n",
    "print('extra trees regressor:')\n",
    "print(et.score(X_train, y_train))\n",
    "print(et.score(X_test, y_test))\n",
    "\n",
    "et = ExtraTreesRegressor().fit( X_train_t, y_train)\n",
    "print('extra trees regressor, standardized:')\n",
    "print(et.score(X_train_t, y_train))\n",
    "print(et.score(X_test_t, y_test))"
   ]
  },
  {
   "cell_type": "markdown",
   "metadata": {},
   "source": [
    "### Updates so far...\n",
    "- The best algorithms are: Random Forest Regressor and Extra Trees Regressor\n",
    "- Unstandarzied data seems better for those algorithms(we wont use the standard scaler)\n",
    "- They only reach about .61 in test scoring, which we want to be as close to 1 as possible \n",
    "- Linear regression , SVM, NN and KNN give trash scores"
   ]
  },
  {
   "cell_type": "markdown",
   "metadata": {},
   "source": [
    "## Using CC_Bottle data\n",
    "The hope here is that with this cleaner, larger data with more predictive inputs we can make better predictions and get higher scores in testing. "
   ]
  },
  {
   "cell_type": "code",
   "execution_count": 24,
   "metadata": {},
   "outputs": [
    {
     "data": {
      "text/html": [
       "<div>\n",
       "<style scoped>\n",
       "    .dataframe tbody tr th:only-of-type {\n",
       "        vertical-align: middle;\n",
       "    }\n",
       "\n",
       "    .dataframe tbody tr th {\n",
       "        vertical-align: top;\n",
       "    }\n",
       "\n",
       "    .dataframe thead th {\n",
       "        text-align: right;\n",
       "    }\n",
       "</style>\n",
       "<table border=\"1\" class=\"dataframe\">\n",
       "  <thead>\n",
       "    <tr style=\"text-align: right;\">\n",
       "      <th></th>\n",
       "      <th>Cast_Count</th>\n",
       "      <th>Depth</th>\n",
       "      <th>Temp</th>\n",
       "      <th>Silicate</th>\n",
       "      <th>Phosphate</th>\n",
       "      <th>ChlorA</th>\n",
       "      <th>Light_Percent</th>\n",
       "      <th>Cruise_ID</th>\n",
       "      <th>Station_ID</th>\n",
       "      <th>Date</th>\n",
       "      <th>Lat_Dec</th>\n",
       "      <th>Lon_Dec</th>\n",
       "      <th>Year</th>\n",
       "      <th>Month</th>\n",
       "      <th>Day</th>\n",
       "      <th>Nitrogen</th>\n",
       "    </tr>\n",
       "  </thead>\n",
       "  <tbody>\n",
       "    <tr>\n",
       "      <th>0</th>\n",
       "      <td>20851</td>\n",
       "      <td>0</td>\n",
       "      <td>15.34</td>\n",
       "      <td>2.0</td>\n",
       "      <td>0.25</td>\n",
       "      <td>0.85</td>\n",
       "      <td>NaN</td>\n",
       "      <td>1977-12-05-C-31JD</td>\n",
       "      <td>083.3 051.0</td>\n",
       "      <td>12/20/1977</td>\n",
       "      <td>33.866666</td>\n",
       "      <td>-120.141666</td>\n",
       "      <td>1977</td>\n",
       "      <td>12</td>\n",
       "      <td>20</td>\n",
       "      <td>0.1</td>\n",
       "    </tr>\n",
       "    <tr>\n",
       "      <th>1</th>\n",
       "      <td>20851</td>\n",
       "      <td>1</td>\n",
       "      <td>15.34</td>\n",
       "      <td>2.0</td>\n",
       "      <td>0.25</td>\n",
       "      <td>0.85</td>\n",
       "      <td>NaN</td>\n",
       "      <td>1977-12-05-C-31JD</td>\n",
       "      <td>083.3 051.0</td>\n",
       "      <td>12/20/1977</td>\n",
       "      <td>33.866666</td>\n",
       "      <td>-120.141666</td>\n",
       "      <td>1977</td>\n",
       "      <td>12</td>\n",
       "      <td>20</td>\n",
       "      <td>0.1</td>\n",
       "    </tr>\n",
       "    <tr>\n",
       "      <th>2</th>\n",
       "      <td>20851</td>\n",
       "      <td>10</td>\n",
       "      <td>15.32</td>\n",
       "      <td>2.0</td>\n",
       "      <td>0.28</td>\n",
       "      <td>0.65</td>\n",
       "      <td>NaN</td>\n",
       "      <td>1977-12-05-C-31JD</td>\n",
       "      <td>083.3 051.0</td>\n",
       "      <td>12/20/1977</td>\n",
       "      <td>33.866666</td>\n",
       "      <td>-120.141666</td>\n",
       "      <td>1977</td>\n",
       "      <td>12</td>\n",
       "      <td>20</td>\n",
       "      <td>0.1</td>\n",
       "    </tr>\n",
       "    <tr>\n",
       "      <th>3</th>\n",
       "      <td>20851</td>\n",
       "      <td>11</td>\n",
       "      <td>15.32</td>\n",
       "      <td>2.0</td>\n",
       "      <td>0.28</td>\n",
       "      <td>0.62</td>\n",
       "      <td>NaN</td>\n",
       "      <td>1977-12-05-C-31JD</td>\n",
       "      <td>083.3 051.0</td>\n",
       "      <td>12/20/1977</td>\n",
       "      <td>33.866666</td>\n",
       "      <td>-120.141666</td>\n",
       "      <td>1977</td>\n",
       "      <td>12</td>\n",
       "      <td>20</td>\n",
       "      <td>0.1</td>\n",
       "    </tr>\n",
       "    <tr>\n",
       "      <th>4</th>\n",
       "      <td>20851</td>\n",
       "      <td>20</td>\n",
       "      <td>15.28</td>\n",
       "      <td>2.5</td>\n",
       "      <td>0.29</td>\n",
       "      <td>0.58</td>\n",
       "      <td>NaN</td>\n",
       "      <td>1977-12-05-C-31JD</td>\n",
       "      <td>083.3 051.0</td>\n",
       "      <td>12/20/1977</td>\n",
       "      <td>33.866666</td>\n",
       "      <td>-120.141666</td>\n",
       "      <td>1977</td>\n",
       "      <td>12</td>\n",
       "      <td>20</td>\n",
       "      <td>0.4</td>\n",
       "    </tr>\n",
       "  </tbody>\n",
       "</table>\n",
       "</div>"
      ],
      "text/plain": [
       "   Cast_Count  Depth   Temp  Silicate  Phosphate  ChlorA  Light_Percent  \\\n",
       "0       20851      0  15.34       2.0       0.25    0.85            NaN   \n",
       "1       20851      1  15.34       2.0       0.25    0.85            NaN   \n",
       "2       20851     10  15.32       2.0       0.28    0.65            NaN   \n",
       "3       20851     11  15.32       2.0       0.28    0.62            NaN   \n",
       "4       20851     20  15.28       2.5       0.29    0.58            NaN   \n",
       "\n",
       "           Cruise_ID   Station_ID        Date    Lat_Dec     Lon_Dec  Year  \\\n",
       "0  1977-12-05-C-31JD  083.3 051.0  12/20/1977  33.866666 -120.141666  1977   \n",
       "1  1977-12-05-C-31JD  083.3 051.0  12/20/1977  33.866666 -120.141666  1977   \n",
       "2  1977-12-05-C-31JD  083.3 051.0  12/20/1977  33.866666 -120.141666  1977   \n",
       "3  1977-12-05-C-31JD  083.3 051.0  12/20/1977  33.866666 -120.141666  1977   \n",
       "4  1977-12-05-C-31JD  083.3 051.0  12/20/1977  33.866666 -120.141666  1977   \n",
       "\n",
       "   Month  Day  Nitrogen  \n",
       "0     12   20       0.1  \n",
       "1     12   20       0.1  \n",
       "2     12   20       0.1  \n",
       "3     12   20       0.1  \n",
       "4     12   20       0.4  "
      ]
     },
     "execution_count": 24,
     "metadata": {},
     "output_type": "execute_result"
    }
   ],
   "source": [
    "cc.head()\n"
   ]
  },
  {
   "cell_type": "code",
   "execution_count": 9,
   "metadata": {},
   "outputs": [
    {
     "name": "stdout",
     "output_type": "stream",
     "text": [
      "(221588, 10)\n"
     ]
    },
    {
     "name": "stderr",
     "output_type": "stream",
     "text": [
      "/Users/annaleaohalloran/opt/anaconda3/lib/python3.7/site-packages/ipykernel_launcher.py:3: SettingWithCopyWarning: \n",
      "A value is trying to be set on a copy of a slice from a DataFrame\n",
      "\n",
      "See the caveats in the documentation: https://pandas.pydata.org/pandas-docs/stable/user_guide/indexing.html#returning-a-view-versus-a-copy\n",
      "  This is separate from the ipykernel package so we can avoid doing imports until\n"
     ]
    }
   ],
   "source": [
    "temp2 = cc[['Depth', 'Temp', 'Silicate', 'Phosphate', 'Nitrogen', 'ChlorA', \n",
    "            'Month', 'Year', 'Lat_Dec', 'Lon_Dec']]\n",
    "temp2.dropna(inplace=True)\n",
    "X2 = temp2[['Depth', 'Temp', 'Silicate', 'Phosphate', 'Nitrogen', 'Month', 'Year', 'Lat_Dec', 'Lon_Dec']]\n",
    "y2 = temp2['ChlorA']\n",
    "\n",
    "print(temp2.shape)"
   ]
  },
  {
   "cell_type": "code",
   "execution_count": 10,
   "metadata": {},
   "outputs": [],
   "source": [
    "X_train2, X_test2, y_train2, y_test2 = train_test_split(X2, y2, test_size=0.20, random_state=42)"
   ]
  },
  {
   "cell_type": "code",
   "execution_count": 14,
   "metadata": {},
   "outputs": [
    {
     "name": "stdout",
     "output_type": "stream",
     "text": [
      "random forest regressor training & testing scores:\n",
      "0.9678663107552431\n",
      "0.8044182911228168\n"
     ]
    }
   ],
   "source": [
    "rf = RandomForestRegressor(n_jobs=-1).fit(X_train2, y_train2)\n",
    "print('random forest regressor training & testing scores:')\n",
    "print(rf.score(X_train2,y_train2))\n",
    "print(rf.score(X_test2, y_test2))\n"
   ]
  },
  {
   "cell_type": "markdown",
   "metadata": {},
   "source": [
    "# Final Model using CC_Data\n",
    "- Create a null data frame with everything the same except add 2 to every val in temperature to model climate change\n",
    "- Run prediction on this new dataframe using model we trained up"
   ]
  },
  {
   "cell_type": "code",
   "execution_count": 13,
   "metadata": {},
   "outputs": [
    {
     "name": "stdout",
     "output_type": "stream",
     "text": [
      "extra trees regressor trianing & testing scores:\n",
      "0.9999999276082675\n",
      "0.8477522639269703\n"
     ]
    }
   ],
   "source": [
    "et = ExtraTreesRegressor(n_jobs=-1).fit( X_train2, y_train2)\n",
    "print('extra trees regressor trianing & testing scores:')\n",
    "print(et.score(X_train2, y_train2))\n",
    "print(et.score(X_test2, y_test2))"
   ]
  },
  {
   "cell_type": "code",
   "execution_count": 17,
   "metadata": {},
   "outputs": [
    {
     "data": {
      "text/html": [
       "<div>\n",
       "<style scoped>\n",
       "    .dataframe tbody tr th:only-of-type {\n",
       "        vertical-align: middle;\n",
       "    }\n",
       "\n",
       "    .dataframe tbody tr th {\n",
       "        vertical-align: top;\n",
       "    }\n",
       "\n",
       "    .dataframe thead th {\n",
       "        text-align: right;\n",
       "    }\n",
       "</style>\n",
       "<table border=\"1\" class=\"dataframe\">\n",
       "  <thead>\n",
       "    <tr style=\"text-align: right;\">\n",
       "      <th></th>\n",
       "      <th>Cast_Count</th>\n",
       "      <th>Depth</th>\n",
       "      <th>Temp</th>\n",
       "      <th>Silicate</th>\n",
       "      <th>Phosphate</th>\n",
       "      <th>ChlorA</th>\n",
       "      <th>Light_Percent</th>\n",
       "      <th>Cruise_ID</th>\n",
       "      <th>Station_ID</th>\n",
       "      <th>Date</th>\n",
       "      <th>Lat_Dec</th>\n",
       "      <th>Lon_Dec</th>\n",
       "      <th>Year</th>\n",
       "      <th>Month</th>\n",
       "      <th>Day</th>\n",
       "      <th>Nitrogen</th>\n",
       "    </tr>\n",
       "  </thead>\n",
       "  <tbody>\n",
       "    <tr>\n",
       "      <th>0</th>\n",
       "      <td>20851</td>\n",
       "      <td>0</td>\n",
       "      <td>15.34</td>\n",
       "      <td>2.0</td>\n",
       "      <td>0.25</td>\n",
       "      <td>0.85</td>\n",
       "      <td>NaN</td>\n",
       "      <td>1977-12-05-C-31JD</td>\n",
       "      <td>083.3 051.0</td>\n",
       "      <td>12/20/1977</td>\n",
       "      <td>33.866666</td>\n",
       "      <td>-120.141666</td>\n",
       "      <td>1977</td>\n",
       "      <td>12</td>\n",
       "      <td>20</td>\n",
       "      <td>0.1</td>\n",
       "    </tr>\n",
       "    <tr>\n",
       "      <th>1</th>\n",
       "      <td>20851</td>\n",
       "      <td>1</td>\n",
       "      <td>15.34</td>\n",
       "      <td>2.0</td>\n",
       "      <td>0.25</td>\n",
       "      <td>0.85</td>\n",
       "      <td>NaN</td>\n",
       "      <td>1977-12-05-C-31JD</td>\n",
       "      <td>083.3 051.0</td>\n",
       "      <td>12/20/1977</td>\n",
       "      <td>33.866666</td>\n",
       "      <td>-120.141666</td>\n",
       "      <td>1977</td>\n",
       "      <td>12</td>\n",
       "      <td>20</td>\n",
       "      <td>0.1</td>\n",
       "    </tr>\n",
       "    <tr>\n",
       "      <th>2</th>\n",
       "      <td>20851</td>\n",
       "      <td>10</td>\n",
       "      <td>15.32</td>\n",
       "      <td>2.0</td>\n",
       "      <td>0.28</td>\n",
       "      <td>0.65</td>\n",
       "      <td>NaN</td>\n",
       "      <td>1977-12-05-C-31JD</td>\n",
       "      <td>083.3 051.0</td>\n",
       "      <td>12/20/1977</td>\n",
       "      <td>33.866666</td>\n",
       "      <td>-120.141666</td>\n",
       "      <td>1977</td>\n",
       "      <td>12</td>\n",
       "      <td>20</td>\n",
       "      <td>0.1</td>\n",
       "    </tr>\n",
       "    <tr>\n",
       "      <th>3</th>\n",
       "      <td>20851</td>\n",
       "      <td>11</td>\n",
       "      <td>15.32</td>\n",
       "      <td>2.0</td>\n",
       "      <td>0.28</td>\n",
       "      <td>0.62</td>\n",
       "      <td>NaN</td>\n",
       "      <td>1977-12-05-C-31JD</td>\n",
       "      <td>083.3 051.0</td>\n",
       "      <td>12/20/1977</td>\n",
       "      <td>33.866666</td>\n",
       "      <td>-120.141666</td>\n",
       "      <td>1977</td>\n",
       "      <td>12</td>\n",
       "      <td>20</td>\n",
       "      <td>0.1</td>\n",
       "    </tr>\n",
       "    <tr>\n",
       "      <th>4</th>\n",
       "      <td>20851</td>\n",
       "      <td>20</td>\n",
       "      <td>15.28</td>\n",
       "      <td>2.5</td>\n",
       "      <td>0.29</td>\n",
       "      <td>0.58</td>\n",
       "      <td>NaN</td>\n",
       "      <td>1977-12-05-C-31JD</td>\n",
       "      <td>083.3 051.0</td>\n",
       "      <td>12/20/1977</td>\n",
       "      <td>33.866666</td>\n",
       "      <td>-120.141666</td>\n",
       "      <td>1977</td>\n",
       "      <td>12</td>\n",
       "      <td>20</td>\n",
       "      <td>0.4</td>\n",
       "    </tr>\n",
       "  </tbody>\n",
       "</table>\n",
       "</div>"
      ],
      "text/plain": [
       "   Cast_Count  Depth   Temp  Silicate  Phosphate  ChlorA  Light_Percent  \\\n",
       "0       20851      0  15.34       2.0       0.25    0.85            NaN   \n",
       "1       20851      1  15.34       2.0       0.25    0.85            NaN   \n",
       "2       20851     10  15.32       2.0       0.28    0.65            NaN   \n",
       "3       20851     11  15.32       2.0       0.28    0.62            NaN   \n",
       "4       20851     20  15.28       2.5       0.29    0.58            NaN   \n",
       "\n",
       "           Cruise_ID   Station_ID        Date    Lat_Dec     Lon_Dec  Year  \\\n",
       "0  1977-12-05-C-31JD  083.3 051.0  12/20/1977  33.866666 -120.141666  1977   \n",
       "1  1977-12-05-C-31JD  083.3 051.0  12/20/1977  33.866666 -120.141666  1977   \n",
       "2  1977-12-05-C-31JD  083.3 051.0  12/20/1977  33.866666 -120.141666  1977   \n",
       "3  1977-12-05-C-31JD  083.3 051.0  12/20/1977  33.866666 -120.141666  1977   \n",
       "4  1977-12-05-C-31JD  083.3 051.0  12/20/1977  33.866666 -120.141666  1977   \n",
       "\n",
       "   Month  Day  Nitrogen  \n",
       "0     12   20       0.1  \n",
       "1     12   20       0.1  \n",
       "2     12   20       0.1  \n",
       "3     12   20       0.1  \n",
       "4     12   20       0.4  "
      ]
     },
     "execution_count": 17,
     "metadata": {},
     "output_type": "execute_result"
    }
   ],
   "source": [
    "prediction_data = pd.read_csv('CC_Bottle_Cast.csv')\n",
    "prediction_data.head()"
   ]
  },
  {
   "cell_type": "markdown",
   "metadata": {},
   "source": [
    "# Prediction:\n",
    "We want to predict the amount of ChlorA in the future with temperatures increased 2 degrees (simulate the effect of climate change on ChlorA amount, a proxy for phytoplankton abundance. "
   ]
  },
  {
   "cell_type": "code",
   "execution_count": 18,
   "metadata": {},
   "outputs": [],
   "source": [
    "# add 2 degrees to each item in temp column\n",
    "def add_two(x):\n",
    "\treturn x + 2\n",
    "\n",
    "prediction_data['Temp'] = prediction_data['Temp'].apply(add_two)"
   ]
  },
  {
   "cell_type": "code",
   "execution_count": 19,
   "metadata": {},
   "outputs": [
    {
     "data": {
      "text/html": [
       "<div>\n",
       "<style scoped>\n",
       "    .dataframe tbody tr th:only-of-type {\n",
       "        vertical-align: middle;\n",
       "    }\n",
       "\n",
       "    .dataframe tbody tr th {\n",
       "        vertical-align: top;\n",
       "    }\n",
       "\n",
       "    .dataframe thead th {\n",
       "        text-align: right;\n",
       "    }\n",
       "</style>\n",
       "<table border=\"1\" class=\"dataframe\">\n",
       "  <thead>\n",
       "    <tr style=\"text-align: right;\">\n",
       "      <th></th>\n",
       "      <th>Cast_Count</th>\n",
       "      <th>Depth</th>\n",
       "      <th>Temp</th>\n",
       "      <th>Silicate</th>\n",
       "      <th>Phosphate</th>\n",
       "      <th>ChlorA</th>\n",
       "      <th>Light_Percent</th>\n",
       "      <th>Cruise_ID</th>\n",
       "      <th>Station_ID</th>\n",
       "      <th>Date</th>\n",
       "      <th>Lat_Dec</th>\n",
       "      <th>Lon_Dec</th>\n",
       "      <th>Year</th>\n",
       "      <th>Month</th>\n",
       "      <th>Day</th>\n",
       "      <th>Nitrogen</th>\n",
       "    </tr>\n",
       "  </thead>\n",
       "  <tbody>\n",
       "    <tr>\n",
       "      <th>0</th>\n",
       "      <td>20851</td>\n",
       "      <td>0</td>\n",
       "      <td>17.34</td>\n",
       "      <td>2.0</td>\n",
       "      <td>0.25</td>\n",
       "      <td>0.85</td>\n",
       "      <td>NaN</td>\n",
       "      <td>1977-12-05-C-31JD</td>\n",
       "      <td>083.3 051.0</td>\n",
       "      <td>12/20/1977</td>\n",
       "      <td>33.866666</td>\n",
       "      <td>-120.141666</td>\n",
       "      <td>1977</td>\n",
       "      <td>12</td>\n",
       "      <td>20</td>\n",
       "      <td>0.1</td>\n",
       "    </tr>\n",
       "    <tr>\n",
       "      <th>1</th>\n",
       "      <td>20851</td>\n",
       "      <td>1</td>\n",
       "      <td>17.34</td>\n",
       "      <td>2.0</td>\n",
       "      <td>0.25</td>\n",
       "      <td>0.85</td>\n",
       "      <td>NaN</td>\n",
       "      <td>1977-12-05-C-31JD</td>\n",
       "      <td>083.3 051.0</td>\n",
       "      <td>12/20/1977</td>\n",
       "      <td>33.866666</td>\n",
       "      <td>-120.141666</td>\n",
       "      <td>1977</td>\n",
       "      <td>12</td>\n",
       "      <td>20</td>\n",
       "      <td>0.1</td>\n",
       "    </tr>\n",
       "    <tr>\n",
       "      <th>2</th>\n",
       "      <td>20851</td>\n",
       "      <td>10</td>\n",
       "      <td>17.32</td>\n",
       "      <td>2.0</td>\n",
       "      <td>0.28</td>\n",
       "      <td>0.65</td>\n",
       "      <td>NaN</td>\n",
       "      <td>1977-12-05-C-31JD</td>\n",
       "      <td>083.3 051.0</td>\n",
       "      <td>12/20/1977</td>\n",
       "      <td>33.866666</td>\n",
       "      <td>-120.141666</td>\n",
       "      <td>1977</td>\n",
       "      <td>12</td>\n",
       "      <td>20</td>\n",
       "      <td>0.1</td>\n",
       "    </tr>\n",
       "    <tr>\n",
       "      <th>3</th>\n",
       "      <td>20851</td>\n",
       "      <td>11</td>\n",
       "      <td>17.32</td>\n",
       "      <td>2.0</td>\n",
       "      <td>0.28</td>\n",
       "      <td>0.62</td>\n",
       "      <td>NaN</td>\n",
       "      <td>1977-12-05-C-31JD</td>\n",
       "      <td>083.3 051.0</td>\n",
       "      <td>12/20/1977</td>\n",
       "      <td>33.866666</td>\n",
       "      <td>-120.141666</td>\n",
       "      <td>1977</td>\n",
       "      <td>12</td>\n",
       "      <td>20</td>\n",
       "      <td>0.1</td>\n",
       "    </tr>\n",
       "    <tr>\n",
       "      <th>4</th>\n",
       "      <td>20851</td>\n",
       "      <td>20</td>\n",
       "      <td>17.28</td>\n",
       "      <td>2.5</td>\n",
       "      <td>0.29</td>\n",
       "      <td>0.58</td>\n",
       "      <td>NaN</td>\n",
       "      <td>1977-12-05-C-31JD</td>\n",
       "      <td>083.3 051.0</td>\n",
       "      <td>12/20/1977</td>\n",
       "      <td>33.866666</td>\n",
       "      <td>-120.141666</td>\n",
       "      <td>1977</td>\n",
       "      <td>12</td>\n",
       "      <td>20</td>\n",
       "      <td>0.4</td>\n",
       "    </tr>\n",
       "  </tbody>\n",
       "</table>\n",
       "</div>"
      ],
      "text/plain": [
       "   Cast_Count  Depth   Temp  Silicate  Phosphate  ChlorA  Light_Percent  \\\n",
       "0       20851      0  17.34       2.0       0.25    0.85            NaN   \n",
       "1       20851      1  17.34       2.0       0.25    0.85            NaN   \n",
       "2       20851     10  17.32       2.0       0.28    0.65            NaN   \n",
       "3       20851     11  17.32       2.0       0.28    0.62            NaN   \n",
       "4       20851     20  17.28       2.5       0.29    0.58            NaN   \n",
       "\n",
       "           Cruise_ID   Station_ID        Date    Lat_Dec     Lon_Dec  Year  \\\n",
       "0  1977-12-05-C-31JD  083.3 051.0  12/20/1977  33.866666 -120.141666  1977   \n",
       "1  1977-12-05-C-31JD  083.3 051.0  12/20/1977  33.866666 -120.141666  1977   \n",
       "2  1977-12-05-C-31JD  083.3 051.0  12/20/1977  33.866666 -120.141666  1977   \n",
       "3  1977-12-05-C-31JD  083.3 051.0  12/20/1977  33.866666 -120.141666  1977   \n",
       "4  1977-12-05-C-31JD  083.3 051.0  12/20/1977  33.866666 -120.141666  1977   \n",
       "\n",
       "   Month  Day  Nitrogen  \n",
       "0     12   20       0.1  \n",
       "1     12   20       0.1  \n",
       "2     12   20       0.1  \n",
       "3     12   20       0.1  \n",
       "4     12   20       0.4  "
      ]
     },
     "execution_count": 19,
     "metadata": {},
     "output_type": "execute_result"
    }
   ],
   "source": [
    "prediction_data.head()"
   ]
  },
  {
   "cell_type": "code",
   "execution_count": 20,
   "metadata": {},
   "outputs": [],
   "source": [
    "X3 = prediction_data[['Depth', 'Temp', 'Silicate', 'Phosphate', 'Nitrogen', 'Month', 'Year', 'Lat_Dec', 'Lon_Dec']]\n",
    "y3 = prediction_data['ChlorA']"
   ]
  },
  {
   "cell_type": "code",
   "execution_count": 30,
   "metadata": {},
   "outputs": [],
   "source": [
    "predictions = et.predict(X3)\n",
    "prediction_data['ChlorA'] = predictions"
   ]
  },
  {
   "cell_type": "code",
   "execution_count": 31,
   "metadata": {},
   "outputs": [
    {
     "name": "stdout",
     "output_type": "stream",
     "text": [
      "[0.7306  0.7306  0.6214  ... 2.11453 2.49956 3.74757]\n"
     ]
    }
   ],
   "source": [
    "print(predictions)"
   ]
  },
  {
   "cell_type": "markdown",
   "metadata": {},
   "source": [
    "# Plots"
   ]
  },
  {
   "cell_type": "code",
   "execution_count": 32,
   "metadata": {},
   "outputs": [],
   "source": [
    "# get all data per year\n",
    "data2014 = cc[cc['Year']==2014]\n",
    "data2015 = cc[cc['Year']==2015]\n",
    "data2016 = cc[cc['Year']==2016]\n",
    "data2017 = cc[cc['Year']==2017]\n",
    "data2018 = cc[cc['Year']==2018]\n",
    "data2019 = cc[cc['Year']==2019]\n",
    "data2020 = prediction_data"
   ]
  },
  {
   "cell_type": "code",
   "execution_count": null,
   "metadata": {},
   "outputs": [],
   "source": []
  }
 ],
 "metadata": {
  "kernelspec": {
   "display_name": "Python 3",
   "language": "python",
   "name": "python3"
  },
  "language_info": {
   "codemirror_mode": {
    "name": "ipython",
    "version": 3
   },
   "file_extension": ".py",
   "mimetype": "text/x-python",
   "name": "python",
   "nbconvert_exporter": "python",
   "pygments_lexer": "ipython3",
   "version": "3.7.6"
  }
 },
 "nbformat": 4,
 "nbformat_minor": 4
}
