{
 "cells": [
  {
   "cell_type": "code",
   "execution_count": 2,
   "id": "continental-tolerance",
   "metadata": {},
   "outputs": [],
   "source": [
    "import pandas as pd\n",
    "import os\n",
    "bottle_data = pd.read_csv(#__path__)"
   ]
  },
  {
   "cell_type": "code",
   "execution_count": 3,
   "id": "attractive-elevation",
   "metadata": {},
   "outputs": [
    {
     "name": "stdout",
     "output_type": "stream",
     "text": [
      "<class 'pandas.core.frame.DataFrame'>\n",
      "RangeIndex: 887018 entries, 0 to 887017\n",
      "Data columns (total 62 columns):\n",
      " #   Column               Non-Null Count   Dtype  \n",
      "---  ------               --------------   -----  \n",
      " 0   Cst_Cnt              887018 non-null  int64  \n",
      " 1   Btl_Cnt              887018 non-null  int64  \n",
      " 2   Sta_ID               887018 non-null  object \n",
      " 3   Depth_ID             887018 non-null  object \n",
      " 4   Depthm               887018 non-null  int64  \n",
      " 5   T_degC               876053 non-null  float64\n",
      " 6   Salnty               839663 non-null  float64\n",
      " 7   O2ml_L               717589 non-null  float64\n",
      " 8   STheta               834327 non-null  float64\n",
      " 9   O2Sat                682668 non-null  float64\n",
      " 10  Oxy_�mol/Kg          682657 non-null  float64\n",
      " 11  BtlNum               133892 non-null  float64\n",
      " 12  RecInd               887018 non-null  int64  \n",
      " 13  T_prec               876055 non-null  float64\n",
      " 14  T_qual               23129 non-null   float64\n",
      " 15  S_prec               839663 non-null  float64\n",
      " 16  S_qual               81802 non-null   float64\n",
      " 17  P_qual               673756 non-null  float64\n",
      " 18  O_qual               195017 non-null  float64\n",
      " 19  SThtaq               72726 non-null   float64\n",
      " 20  O2Satq               228133 non-null  float64\n",
      " 21  ChlorA               240027 non-null  float64\n",
      " 22  Chlqua               646628 non-null  float64\n",
      " 23  Phaeop               240026 non-null  float64\n",
      " 24  Phaqua               646632 non-null  float64\n",
      " 25  PO4uM                433429 non-null  float64\n",
      " 26  PO4q                 453832 non-null  float64\n",
      " 27  SiO3uM               374205 non-null  float64\n",
      " 28  SiO3qu               512983 non-null  float64\n",
      " 29  NO2uM                357429 non-null  float64\n",
      " 30  NO2q                 543565 non-null  float64\n",
      " 31  NO3uM                357518 non-null  float64\n",
      " 32  NO3q                 535783 non-null  float64\n",
      " 33  NH3uM                84329 non-null   float64\n",
      " 34  NH3q                 825936 non-null  float64\n",
      " 35  C14As1               15440 non-null   float64\n",
      " 36  C14A1p               12760 non-null   float64\n",
      " 37  C14A1q               869746 non-null  float64\n",
      " 38  C14As2               15422 non-null   float64\n",
      " 39  C14A2p               12742 non-null   float64\n",
      " 40  C14A2q               869764 non-null  float64\n",
      " 41  DarkAs               23657 non-null   float64\n",
      " 42  DarkAp               20457 non-null   float64\n",
      " 43  DarkAq               861581 non-null  float64\n",
      " 44  MeanAs               23658 non-null   float64\n",
      " 45  MeanAp               20457 non-null   float64\n",
      " 46  MeanAq               861580 non-null  float64\n",
      " 47  IncTim               15445 non-null   object \n",
      " 48  LightP               19662 non-null   float64\n",
      " 49  R_Depth              887017 non-null  float64\n",
      " 50  R_TEMP               840969 non-null  float64\n",
      " 51  R_Sal                834240 non-null  float64\n",
      " 52  R_DYNHT              840354 non-null  float64\n",
      " 53  R_Nuts               84349 non-null   float64\n",
      " 54  R_Oxy_�mol/Kg        682657 non-null  float64\n",
      " 55  DIC1                 1999 non-null    float64\n",
      " 56  DIC2                 224 non-null     float64\n",
      " 57  TA1                  2084 non-null    float64\n",
      " 58  TA2                  234 non-null     float64\n",
      " 59  pH1                  84 non-null      float64\n",
      " 60  pH2                  10 non-null      float64\n",
      " 61  DIC Quality Comment  55 non-null      object \n",
      "dtypes: float64(54), int64(4), object(4)\n",
      "memory usage: 419.6+ MB\n"
     ]
    }
   ],
   "source": [
    "bottle_data.info()\n",
    "bottle_data['Depth_ID'].unique()"
   ]
  },
  {
   "cell_type": "code",
   "execution_count": 5,
   "id": "danish-spyware",
   "metadata": {},
   "outputs": [
    {
     "data": {
      "text/plain": [
       "array(['19-4903CR-HY-060-0930-05400560-0000A-3',\n",
       "       '19-4903CR-HY-060-0930-05400560-0008A-3',\n",
       "       '19-4903CR-HY-060-0930-05400560-0010A-7', ...,\n",
       "       '20-1911OC-MX-308-2233-09340264-0006A-3',\n",
       "       '20-1911OC-MX-308-2233-09340264-0010A-7',\n",
       "       '20-1911OC-MX-308-2233-09340264-0011A-3'], dtype=object)"
      ]
     },
     "execution_count": 5,
     "metadata": {},
     "output_type": "execute_result"
    }
   ],
   "source": [
    "bottle_data = bottle_data[bottle_data['Depth_ID'].str.slice(start=0, stop=5)>='20-15']"
   ]
  },
  {
   "cell_type": "code",
   "execution_count": 8,
   "id": "outdoor-software",
   "metadata": {},
   "outputs": [],
   "source": [
    "bottle_data['Depth_ID'].unique()"
   ]
  },
  {
   "cell_type": "code",
   "execution_count": 10,
   "id": "enabling-advocate",
   "metadata": {},
   "outputs": [
    {
     "name": "stdout",
     "output_type": "stream",
     "text": [
      "<class 'pandas.core.frame.DataFrame'>\n",
      "Int64Index: 38972 entries, 848046 to 887017\n",
      "Data columns (total 62 columns):\n",
      " #   Column               Non-Null Count  Dtype  \n",
      "---  ------               --------------  -----  \n",
      " 0   Cst_Cnt              38972 non-null  int64  \n",
      " 1   Btl_Cnt              38972 non-null  int64  \n",
      " 2   Sta_ID               38972 non-null  object \n",
      " 3   Depth_ID             38972 non-null  object \n",
      " 4   Depthm               38972 non-null  int64  \n",
      " 5   T_degC               38970 non-null  float64\n",
      " 6   Salnty               38971 non-null  float64\n",
      " 7   O2ml_L               37648 non-null  float64\n",
      " 8   STheta               38970 non-null  float64\n",
      " 9   O2Sat                37654 non-null  float64\n",
      " 10  Oxy_�mol/Kg          37649 non-null  float64\n",
      " 11  BtlNum               26574 non-null  float64\n",
      " 12  RecInd               38972 non-null  int64  \n",
      " 13  T_prec               38972 non-null  float64\n",
      " 14  T_qual               2 non-null      float64\n",
      " 15  S_prec               38971 non-null  float64\n",
      " 16  S_qual               12610 non-null  float64\n",
      " 17  P_qual               1 non-null      float64\n",
      " 18  O_qual               15836 non-null  float64\n",
      " 19  SThtaq               12626 non-null  float64\n",
      " 20  O2Satq               15831 non-null  float64\n",
      " 21  ChlorA               26029 non-null  float64\n",
      " 22  Chlqua               13069 non-null  float64\n",
      " 23  Phaeop               26029 non-null  float64\n",
      " 24  Phaqua               13069 non-null  float64\n",
      " 25  PO4uM                34852 non-null  float64\n",
      " 26  PO4q                 4123 non-null   float64\n",
      " 27  SiO3uM               34861 non-null  float64\n",
      " 28  SiO3qu               4201 non-null   float64\n",
      " 29  NO2uM                34599 non-null  float64\n",
      " 30  NO2q                 18096 non-null  float64\n",
      " 31  NO3uM                34861 non-null  float64\n",
      " 32  NO3q                 10082 non-null  float64\n",
      " 33  NH3uM                34103 non-null  float64\n",
      " 34  NH3q                 28027 non-null  float64\n",
      " 35  C14As1               1791 non-null   float64\n",
      " 36  C14A1p               0 non-null      float64\n",
      " 37  C14A1q               37171 non-null  float64\n",
      " 38  C14As2               1791 non-null   float64\n",
      " 39  C14A2p               0 non-null      float64\n",
      " 40  C14A2q               37171 non-null  float64\n",
      " 41  DarkAs               1866 non-null   float64\n",
      " 42  DarkAp               0 non-null      float64\n",
      " 43  DarkAq               37096 non-null  float64\n",
      " 44  MeanAs               1866 non-null   float64\n",
      " 45  MeanAp               0 non-null      float64\n",
      " 46  MeanAq               37096 non-null  float64\n",
      " 47  IncTim               1791 non-null   object \n",
      " 48  LightP               1872 non-null   float64\n",
      " 49  R_Depth              38971 non-null  float64\n",
      " 50  R_TEMP               38970 non-null  float64\n",
      " 51  R_Sal                38965 non-null  float64\n",
      " 52  R_DYNHT              38965 non-null  float64\n",
      " 53  R_Nuts               34103 non-null  float64\n",
      " 54  R_Oxy_�mol/Kg        37649 non-null  float64\n",
      " 55  DIC1                 326 non-null    float64\n",
      " 56  DIC2                 24 non-null     float64\n",
      " 57  TA1                  372 non-null    float64\n",
      " 58  TA2                  30 non-null     float64\n",
      " 59  pH1                  46 non-null     float64\n",
      " 60  pH2                  6 non-null      float64\n",
      " 61  DIC Quality Comment  8 non-null      object \n",
      "dtypes: float64(54), int64(4), object(4)\n",
      "memory usage: 18.7+ MB\n"
     ]
    }
   ],
   "source": [
    "bottle_data.info()"
   ]
  },
  {
   "cell_type": "code",
   "execution_count": 12,
   "id": "governing-gospel",
   "metadata": {},
   "outputs": [],
   "source": [
    "bottle_data.to_csv(r#__output_directory_here\n",
    "                   , index=False)"
   ]
  },
  {
   "cell_type": "code",
   "execution_count": null,
   "id": "specific-bahamas",
   "metadata": {},
   "outputs": [],
   "source": []
  }
 ],
 "metadata": {
  "kernelspec": {
   "display_name": "Python 3",
   "language": "python",
   "name": "python3"
  },
  "language_info": {
   "codemirror_mode": {
    "name": "ipython",
    "version": 3
   },
   "file_extension": ".py",
   "mimetype": "text/x-python",
   "name": "python",
   "nbconvert_exporter": "python",
   "pygments_lexer": "ipython3",
   "version": "3.7.9"
  }
 },
 "nbformat": 4,
 "nbformat_minor": 5
}
